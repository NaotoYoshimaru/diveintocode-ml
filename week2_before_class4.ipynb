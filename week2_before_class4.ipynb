{
  "nbformat": 4,
  "nbformat_minor": 0,
  "metadata": {
    "colab": {
      "name": "week2_before_class4.ipynb",
      "provenance": [],
      "collapsed_sections": []
    },
    "kernelspec": {
      "name": "python3",
      "display_name": "Python 3"
    }
  },
  "cells": [
    {
      "cell_type": "code",
      "metadata": {
        "colab": {
          "base_uri": "https://localhost:8080/",
          "height": 122
        },
        "id": "viXu0yViHXmy",
        "outputId": "a14a5709-65ef-4b92-dc5c-fba3bc1a6bb5"
      },
      "source": [
        "% matplotlib inline\n",
        "import matplotlib.pyplot as plt\n",
        "import matplotlib.patches as patches\n",
        "\n",
        "fig = plt.figure()\n",
        "ax = plt.axes()\n",
        "\n",
        "c = patches.Circle(xy=(1, 0), radius=0.5,facecolor=\"none\",ec='b')\n",
        "d = patches.Circle(xy=(1, 0), radius=0.35,facecolor=\"none\",ec='b')\n",
        "e = patches.Circle(xy=(1, 0), radius=0.2,facecolor=\"none\",ec='b')\n",
        "ax.add_patch(c)\n",
        "ax.add_patch(d)\n",
        "ax.add_patch(e)\n",
        "c_1 = patches.Circle(xy=(2, 0), radius=0.5,facecolor=\"none\",ec='b')\n",
        "d_1 = patches.Circle(xy=(2, 0), radius=0.35,facecolor=\"none\",ec='b')\n",
        "e_1 = patches.Circle(xy=(2, 0), radius=0.2,facecolor=\"none\",ec='b')\n",
        "ax.add_patch(c_1)\n",
        "ax.add_patch(d_1)\n",
        "ax.add_patch(e_1)\n",
        "c_2 = patches.Circle(xy=(3, 0), radius=0.5,facecolor=\"none\",ec='b')\n",
        "d_2 = patches.Circle(xy=(3, 0), radius=0.35,facecolor=\"none\",ec='b')\n",
        "e_2 = patches.Circle(xy=(3, 0), radius=0.2,facecolor=\"none\",ec='b')\n",
        "ax.add_patch(c_2)\n",
        "ax.add_patch(d_2)\n",
        "ax.add_patch(e_2)\n",
        "c_3 = patches.Circle(xy=(4, 0), radius=0.5,facecolor=\"none\",ec='b')\n",
        "d_3 = patches.Circle(xy=(4, 0), radius=0.35,facecolor=\"none\",ec='b')\n",
        "e_3 = patches.Circle(xy=(4, 0), radius=0.2,facecolor=\"none\",ec='b')\n",
        "ax.add_patch(c_3)\n",
        "ax.add_patch(d_3)\n",
        "ax.add_patch(e_3)\n",
        "c_4 = patches.Circle(xy=(5, 0), radius=0.5,facecolor=\"none\",ec='b')\n",
        "d_4 = patches.Circle(xy=(5, 0), radius=0.35,facecolor=\"none\",ec='b')\n",
        "e_4 = patches.Circle(xy=(5, 0), radius=0.2,facecolor=\"none\",ec='b')\n",
        "ax.add_patch(c_4)\n",
        "ax.add_patch(d_4)\n",
        "ax.add_patch(e_4)\n",
        "c_5 = patches.Circle(xy=(6, 0), radius=0.5,facecolor=\"none\",ec='b')\n",
        "d_5 = patches.Circle(xy=(6, 0), radius=0.35,facecolor=\"none\",ec='b')\n",
        "e_5 = patches.Circle(xy=(6, 0), radius=0.2,facecolor=\"none\",ec='b')\n",
        "ax.add_patch(c_5)\n",
        "ax.add_patch(d_5)\n",
        "ax.add_patch(e_5)\n",
        "\n",
        "plt.axis(\"scaled\")"
      ],
      "execution_count": 1,
      "outputs": [
        {
          "output_type": "execute_result",
          "data": {
            "text/plain": [
              "(0.19999999999999996, 6.8, -0.55, 0.55)"
            ]
          },
          "metadata": {
            "tags": []
          },
          "execution_count": 1
        },
        {
          "output_type": "display_data",
          "data": {
            "image/png": "[encoded data removed]",
            "text/plain": [
              "<Figure size 432x288 with 1 Axes>"
            ]
          },
          "metadata": {
            "tags": [],
            "needs_background": "light"
          }
        }
      ]
    },
    {
      "cell_type": "code",
      "metadata": {
        "colab": {
          "base_uri": "https://localhost:8080/",
          "height": 159
        },
        "id": "hCfoXwoHAttM",
        "outputId": "bcfc5906-00ce-4353-913b-8c9a1e618c2a"
      },
      "source": [
        "% matplotlib inline\n",
        "import matplotlib.pyplot as plt\n",
        "import matplotlib.patches as patches\n",
        "\n",
        "i = 0\n",
        "for i in range(0,6):\n",
        "  i = i+1\n",
        "  ax = plt.axes()\n",
        "  c = patches.Circle(xy=(i, 0), radius=0.5,facecolor=\"none\",ec='b')\n",
        "  d = patches.Circle(xy=(i, 0), radius=0.35,facecolor=\"none\",ec='b')\n",
        "  e = patches.Circle(xy=(i, 0), radius=0.2,facecolor=\"none\",ec='b')\n",
        "  ax.add_patch(c)\n",
        "  ax.add_patch(d)\n",
        "  ax.add_patch(e)\n",
        "  plt.axis(\"scaled\")\n",
        "\n"
      ],
      "execution_count": 2,
      "outputs": [
        {
          "output_type": "stream",
          "text": [
            "/usr/local/lib/python3.6/dist-packages/ipykernel_launcher.py:8: MatplotlibDeprecationWarning: Adding an axes using the same arguments as a previous axes currently reuses the earlier instance.  In a future version, a new instance will always be created and returned.  Meanwhile, this warning can be suppressed, and the future behavior ensured, by passing a unique label to each axes instance.\n",
            "  \n"
          ],
          "name": "stderr"
        },
        {
          "output_type": "display_data",
          "data": {
            "image/png": "[encoded data removed]",
            "text/plain": [
              "<Figure size 432x288 with 1 Axes>"
            ]
          },
          "metadata": {
            "tags": [],
            "needs_background": "light"
          }
        }
      ]
    },
    {
      "cell_type": "markdown",
      "metadata": {
        "id": "K65t9tQYXHqt"
      },
      "source": [
        "##**【問題1】ダーツの的を選ぶ**"
      ]
    },
    {
      "cell_type": "code",
      "metadata": {
        "colab": {
          "base_uri": "https://localhost:8080/"
        },
        "id": "sCTJGcC1IN_J",
        "outputId": "02479b6f-14d7-42a8-b453-487c75fc713a"
      },
      "source": [
        "import numpy as np\n",
        "\n",
        "target = list(range(1, 7))\n",
        "choice_target = np.random.choice(target)\n",
        "choice_target\n"
      ],
      "execution_count": 3,
      "outputs": [
        {
          "output_type": "execute_result",
          "data": {
            "text/plain": [
              "1"
            ]
          },
          "metadata": {
            "tags": []
          },
          "execution_count": 3
        }
      ]
    },
    {
      "cell_type": "markdown",
      "metadata": {
        "id": "r0KARRLmXRKO"
      },
      "source": [
        "##**【問題2】ダーツを投げて、刺さった場所を記録する**"
      ]
    },
    {
      "cell_type": "code",
      "metadata": {
        "colab": {
          "base_uri": "https://localhost:8080/"
        },
        "id": "CCy0mAWyLwN-",
        "outputId": "30173be2-e946-4bdb-f68b-6e75d4e8414b"
      },
      "source": [
        "import numpy as np\n",
        "\n",
        "target = list(range(1, 7))\n",
        "choice_target = np.random.choice(target)\n",
        "choice_target\n",
        "x = choice_target\n",
        "y = choice_target\n",
        "s_deviation = 0.1\n",
        "conv = [[s_deviation,0],[0,s_deviation]]\n",
        "mean = [x,y]\n",
        "result = []\n",
        "\n",
        "throw_arrow = np.random.multivariate_normal(mean, conv)\n",
        "#print(throw_arrow)\n",
        "result.append(throw_arrow)\n",
        "print(\"選んだ的は{}番、刺さった座標は{}です\".format(choice_target,result))"
      ],
      "execution_count": 4,
      "outputs": [
        {
          "output_type": "stream",
          "text": [
            "選んだ的は2番、刺さった座標は[array([1.61638789, 1.71360462])]です\n"
          ],
          "name": "stdout"
        }
      ]
    },
    {
      "cell_type": "markdown",
      "metadata": {
        "id": "91Wruho2XAYM"
      },
      "source": [
        "##**【問題3】ダーツをたくさん投げて、まとの番号と紐付けた状態で記録する**"
      ]
    },
    {
      "cell_type": "code",
      "metadata": {
        "colab": {
          "base_uri": "https://localhost:8080/"
        },
        "id": "RWfku0q_UKQd",
        "outputId": "fb88aeb7-55c7-4bea-b414-f7d412686449"
      },
      "source": [
        "import numpy as np\n",
        "\n",
        "\n",
        "throw_times = 100\n",
        "target = list(range(1, 7))\n",
        "conv = [[0.1,0],[0,0.1]]\n",
        "result_data = {}\n",
        "\n",
        "for i in range(throw_times):\n",
        "  choice_target = np.random.choice(target)\n",
        "  x = choice_target\n",
        "  mean = [x,0]\n",
        "  #print(throw_arrow)\n",
        "  throw_arrow = np.random.multivariate_normal(mean, conv)\n",
        "  result_data.setdefault(x,[]).append(throw_arrow)\n",
        "\n",
        "result_data\n",
        "\n"
      ],
      "execution_count": 108,
      "outputs": [
        {
          "output_type": "execute_result",
          "data": {
            "text/plain": [
              "{1: [array([ 0.82121499, -0.32980175]),\n",
              "  array([ 0.53325366, -0.31183772]),\n",
              "  array([1.08396662, 0.34113564]),\n",
              "  array([ 0.8439152 , -0.27221897]),\n",
              "  array([ 0.91533658, -0.58004744]),\n",
              "  array([ 0.90228031, -0.64316101]),\n",
              "  array([ 0.63747902, -0.25199774]),\n",
              "  array([ 1.22864917, -0.07861489]),\n",
              "  array([ 0.86728219, -0.01115425]),\n",
              "  array([ 1.36842825, -0.01485526]),\n",
              "  array([0.92697837, 0.10826844]),\n",
              "  array([ 1.0847314 , -0.03400833]),\n",
              "  array([1.06058973, 0.12172339]),\n",
              "  array([ 1.2099356 , -0.07540799]),\n",
              "  array([ 0.62563964, -0.06556789])],\n",
              " 2: [array([1.9437026 , 0.02535655]),\n",
              "  array([1.36223373, 0.53958486]),\n",
              "  array([ 2.07990782, -0.04382955]),\n",
              "  array([2.13822672, 0.1465868 ]),\n",
              "  array([2.53176589, 0.06937057]),\n",
              "  array([2.52254016, 0.28853975]),\n",
              "  array([ 1.9039486 , -0.29499495]),\n",
              "  array([ 2.20753881, -0.16916997]),\n",
              "  array([1.92781451, 0.13294281]),\n",
              "  array([ 1.97755002, -0.07039936]),\n",
              "  array([1.68886411, 0.13181287]),\n",
              "  array([1.74918877, 0.13830826]),\n",
              "  array([1.89873562, 0.10237594]),\n",
              "  array([ 2.04739743, -0.43903341]),\n",
              "  array([ 2.63265066, -0.14371073]),\n",
              "  array([2.12838418, 0.16035139]),\n",
              "  array([2.67349609, 0.05418195]),\n",
              "  array([ 1.96031782, -0.31785473]),\n",
              "  array([2.4818221, 0.3159713]),\n",
              "  array([1.91465971, 0.34916529]),\n",
              "  array([ 2.23683088, -0.3880022 ])],\n",
              " 3: [array([2.90740188, 0.12289179]),\n",
              "  array([2.2006356, 0.1855302]),\n",
              "  array([ 2.66968133, -0.01381986]),\n",
              "  array([3.45425282, 0.14644158]),\n",
              "  array([3.34515777, 0.2681143 ]),\n",
              "  array([ 2.6154405 , -0.42575737]),\n",
              "  array([ 2.91347865, -0.43129553]),\n",
              "  array([3.48546839, 0.47213083]),\n",
              "  array([3.02476656, 0.37796923]),\n",
              "  array([ 3.18640645, -0.25409834]),\n",
              "  array([ 2.64269396, -0.40187559]),\n",
              "  array([ 3.45273629, -0.70582249]),\n",
              "  array([ 3.25958976, -0.44635059]),\n",
              "  array([ 3.13299399, -0.02860634]),\n",
              "  array([ 3.06840626, -0.3553693 ])],\n",
              " 4: [array([ 3.92451226, -0.0778141 ]),\n",
              "  array([ 3.45074288, -0.33067465]),\n",
              "  array([4.04453292, 0.22846701]),\n",
              "  array([4.04251381, 0.27382828]),\n",
              "  array([ 4.26944535, -0.53412729]),\n",
              "  array([3.64987779, 0.25316675]),\n",
              "  array([4.09138928, 0.07500012]),\n",
              "  array([ 4.28283887, -0.73295888]),\n",
              "  array([4.26169666, 0.53592035]),\n",
              "  array([ 3.97818362, -0.19463704]),\n",
              "  array([4.6151527 , 0.31137329]),\n",
              "  array([ 4.12103389, -0.25508511]),\n",
              "  array([3.50929271, 0.16548205]),\n",
              "  array([4.62197265, 0.34055156]),\n",
              "  array([4.07967147, 0.23587045]),\n",
              "  array([ 3.98716531, -0.14351552])],\n",
              " 5: [array([ 4.86503099, -0.58843964]),\n",
              "  array([ 5.39712581, -0.07501502]),\n",
              "  array([5.0582166 , 0.04001333]),\n",
              "  array([ 5.00340304, -0.15627379]),\n",
              "  array([5.15213949, 0.10523675]),\n",
              "  array([4.76993516, 0.07732222]),\n",
              "  array([ 5.28880104e+00, -2.17322934e-03]),\n",
              "  array([4.65883129, 0.5116725 ]),\n",
              "  array([4.84785749, 0.08761344]),\n",
              "  array([ 4.61903963, -0.03817726]),\n",
              "  array([4.66825   , 0.61612325]),\n",
              "  array([ 4.43776194, -0.14823358]),\n",
              "  array([ 4.59894012, -0.38484238]),\n",
              "  array([ 4.95276699, -0.17073057]),\n",
              "  array([ 5.00827744, -0.3030067 ]),\n",
              "  array([ 5.01819806, -0.03566595]),\n",
              "  array([4.96140531, 0.04059979]),\n",
              "  array([ 4.95793378, -0.23200759])],\n",
              " 6: [array([5.83368899, 0.64669171]),\n",
              "  array([6.6181115 , 0.22980163]),\n",
              "  array([6.40185509, 0.40242559]),\n",
              "  array([ 5.7450827 , -0.20938664]),\n",
              "  array([ 6.19654417, -0.23442242]),\n",
              "  array([ 5.76461571, -0.08298609]),\n",
              "  array([ 6.1401657 , -0.22705993]),\n",
              "  array([ 6.00167418, -0.18759136]),\n",
              "  array([6.56476777, 0.09313121]),\n",
              "  array([5.50034352, 0.67531878]),\n",
              "  array([ 5.38094391, -0.0999367 ]),\n",
              "  array([6.06990596, 0.23836834]),\n",
              "  array([5.83738038, 0.53437394]),\n",
              "  array([5.44133989, 0.67039656]),\n",
              "  array([6.1214442 , 0.32245054])]}"
            ]
          },
          "metadata": {
            "tags": []
          },
          "execution_count": 108
        }
      ]
    },
    {
      "cell_type": "markdown",
      "metadata": {
        "id": "HahbYs3vA9fh"
      },
      "source": [
        "___\n",
        "**【参考】 defaultdict　の使い方** "
      ]
    },
    {
      "cell_type": "code",
      "metadata": {
        "id": "E6MhrT5KDoLW",
        "colab": {
          "base_uri": "https://localhost:8080/"
        },
        "outputId": "50f0ad36-68af-41d4-b4b9-0983d2aad714"
      },
      "source": [
        "from collections import defaultdict\n",
        "\n",
        "def merge_dict_values(*dicts):\n",
        "    r = defaultdict(set)\n",
        "    for d in dicts:\n",
        "        for k, v in d.items():\n",
        "            r[k].add(v)\n",
        "    return r\n",
        "\n",
        "dic  = {'A':'1', 'B':'2'}\n",
        "dic1 = {'A':'3', 'B':'2', 'C':'4'}\n",
        "dic_merged = merge_dict_values(dic, dic1)\n",
        "print(dic_merged)\n",
        "# defaultdict(<type 'set'>, {'A': set(['1', '3']), 'C': set(['4']), 'B': set(['2'])})"
      ],
      "execution_count": 6,
      "outputs": [
        {
          "output_type": "stream",
          "text": [
            "defaultdict(<class 'set'>, {'A': {'3', '1'}, 'B': {'2'}, 'C': {'4'}})\n"
          ],
          "name": "stdout"
        }
      ]
    },
    {
      "cell_type": "markdown",
      "metadata": {
        "id": "CIIDD1pje0q2"
      },
      "source": [
        "##**【問題4】ダーツのまとと刺さった位置を描画する**"
      ]
    },
    {
      "cell_type": "code",
      "metadata": {
        "colab": {
          "base_uri": "https://localhost:8080/",
          "height": 142
        },
        "id": "G5XoiWU9_QrT",
        "outputId": "361f9b46-8567-425c-cec4-5868d8e02f76"
      },
      "source": [
        "import numpy as np\n",
        "\n",
        "\n",
        "throw_times = 100\n",
        "target = list(range(1, 7))\n",
        "conv = [[0.1,0],[0,0.1]]\n",
        "result_data = {}\n",
        "\n",
        "for i in range(throw_times):\n",
        "  choice_target = np.random.choice(target)\n",
        "  x = choice_target\n",
        "  mean = [x,0]\n",
        "  #print(throw_arrow)\n",
        "  throw_arrow = np.random.multivariate_normal(mean, conv)\n",
        "  result_data.setdefault(x,[]).append(throw_arrow)\n",
        "  \n",
        "  #print(result_data)\n",
        "% matplotlib inline\n",
        "import matplotlib.pyplot as plt\n",
        "import matplotlib.patches as patches\n",
        "\n",
        "i = 0\n",
        "for i in range(0,6):\n",
        "  i = i+1\n",
        "  ax = plt.axes()\n",
        "  c = patches.Circle(xy=(i, 0), radius=0.5,facecolor=\"none\",ec='b')\n",
        "  d = patches.Circle(xy=(i, 0), radius=0.35,facecolor=\"none\",ec='b')\n",
        "  e = patches.Circle(xy=(i, 0), radius=0.2,facecolor=\"none\",ec='b')\n",
        "  ax.add_patch(c)\n",
        "  ax.add_patch(d)\n",
        "  ax.add_patch(e)\n",
        "  plt.axis(\"scaled\")\n",
        "\n",
        "for n in range(1,7):\n",
        "  m = result_data.get(n,\"0\")\n",
        "  #print(m)\n",
        "\n",
        "  if m ==\"0\":\n",
        "    pass\n",
        "  else:\n",
        "    for v, w in m:\n",
        "     #print(v,w)\n",
        "     x = v\n",
        "     y = w\n",
        "\n",
        "     #fig = plt.figure()\n",
        "     ax.scatter(x,y)\n",
        "\n"
      ],
      "execution_count": 117,
      "outputs": [
        {
          "output_type": "stream",
          "text": [
            "/usr/local/lib/python3.6/dist-packages/ipykernel_launcher.py:25: MatplotlibDeprecationWarning: Adding an axes using the same arguments as a previous axes currently reuses the earlier instance.  In a future version, a new instance will always be created and returned.  Meanwhile, this warning can be suppressed, and the future behavior ensured, by passing a unique label to each axes instance.\n"
          ],
          "name": "stderr"
        },
        {
          "output_type": "display_data",
          "data": {
            "image/png": "[encoded data removed]",
            "text/plain": [
              "<Figure size 432x288 with 1 Axes>"
            ]
          },
          "metadata": {
            "tags": [],
            "needs_background": "light"
          }
        }
      ]
    },
    {
      "cell_type": "code",
      "metadata": {
        "colab": {
          "base_uri": "https://localhost:8080/",
          "height": 161
        },
        "id": "T-_C_iMpnQBb",
        "outputId": "8673142c-7be0-422f-bef0-a485a694fdbf"
      },
      "source": [
        "def automatic_darts_device(throw_t, target_num):\n",
        "\n",
        "  throw_times = throw_t\n",
        "  u = target_num\n",
        "  target = list(range(1, u+1))\n",
        "  conv = [[0.1,0],[0,0.1]]\n",
        "  result_data = {}\n",
        "\n",
        "  for i in range(throw_times):\n",
        "    choice_target = np.random.choice(target)\n",
        "    x = choice_target\n",
        "    mean = [x,0]\n",
        "    #print(throw_arrow)\n",
        "    throw_arrow = np.random.multivariate_normal(mean, conv)\n",
        "    result_data.setdefault(x,[]).append(throw_arrow)\n",
        "    \n",
        "    #print(result_data)\n",
        "  % matplotlib inline\n",
        "  import matplotlib.pyplot as plt\n",
        "  import matplotlib.patches as patches\n",
        "\n",
        "  i = 0\n",
        "  for i in range(0,u):\n",
        "    i = i+1\n",
        "\n",
        "    ax = plt.axes()\n",
        "    c = patches.Circle(xy=(i, 0), radius=0.5,facecolor=\"none\",ec='b')\n",
        "    d = patches.Circle(xy=(i, 0), radius=0.35,facecolor=\"none\",ec='b')\n",
        "    e = patches.Circle(xy=(i, 0), radius=0.2,facecolor=\"none\",ec='b')\n",
        "    ax.add_patch(c)\n",
        "    ax.add_patch(d)\n",
        "    ax.add_patch(e)\n",
        "    plt.axis(\"scaled\")\n",
        "\n",
        "\n",
        "\n",
        "\n",
        "  for n in range(1,u+1):\n",
        "    m = result_data.get(n,\"0\")\n",
        "    #print(m)\n",
        "\n",
        "    if m ==\"0\":\n",
        "      pass\n",
        "    else:\n",
        "      for v, w in m:\n",
        "      #print(v,w)\n",
        "        x = v\n",
        "        y = w\n",
        "\n",
        "        #fig = plt.figure()\n",
        "\n",
        "        ax.scatter(x,y,s=10)\n",
        "\n",
        "\n",
        "automatic_darts_device(100, 5)\n"
      ],
      "execution_count": 167,
      "outputs": [
        {
          "output_type": "stream",
          "text": [
            "/usr/local/lib/python3.6/dist-packages/ipykernel_launcher.py:26: MatplotlibDeprecationWarning: Adding an axes using the same arguments as a previous axes currently reuses the earlier instance.  In a future version, a new instance will always be created and returned.  Meanwhile, this warning can be suppressed, and the future behavior ensured, by passing a unique label to each axes instance.\n"
          ],
          "name": "stderr"
        },
        {
          "output_type": "display_data",
          "data": {
            "image/png": "[encoded data removed]",
            "text/plain": [
              "<Figure size 432x288 with 1 Axes>"
            ]
          },
          "metadata": {
            "tags": [],
            "needs_background": "light"
          }
        }
      ]
    },
    {
      "cell_type": "code",
      "metadata": {
        "id": "H32Y1Da1gStv"
      },
      "source": [
        ""
      ],
      "execution_count": null,
      "outputs": []
    }
  ]
}