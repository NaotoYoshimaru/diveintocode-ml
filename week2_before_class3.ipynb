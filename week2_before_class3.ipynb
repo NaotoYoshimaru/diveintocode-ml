{
  "nbformat": 4,
  "nbformat_minor": 0,
  "metadata": {
    "colab": {
      "name": "week2_before_class3.ipynb",
      "provenance": [],
      "collapsed_sections": [
        "ONfmpRVtEID1",
        "1Jp8PQW91W5_",
        "qf3kJ7NW5voE"
      ]
    },
    "kernelspec": {
      "name": "python3",
      "display_name": "Python 3"
    }
  },
  "cells": [
    {
      "cell_type": "code",
      "metadata": {
        "colab": {
          "base_uri": "https://localhost:8080/"
        },
        "id": "DbSR7Pda1t3d",
        "outputId": "85c3c5ea-efb6-4465-974a-86eed4026bf0"
      },
      "source": [
        "import numpy as np\n",
        "a_ndarray = np.array([[-1, 2, 3], [4, -5, 6], [7, 8, -9]])\n",
        "b_ndarray = np.array([[0, 2, 1], [0, 2, -8], [2, 9, -1]])\n",
        "\n"
      ],
      "execution_count": 138,
      "outputs": [
        {
          "output_type": "execute_result",
          "data": {
            "text/plain": [
              "array([0, 0, 2])"
            ]
          },
          "metadata": {
            "tags": []
          },
          "execution_count": 138
        }
      ]
    },
    {
      "cell_type": "markdown",
      "metadata": {
        "id": "ONfmpRVtEID1"
      },
      "source": [
        "##**【問題1】行列積を手計算する**\n",
        "\n",
        "\\begin{eqnarray}\n",
        "A=\\left[\n",
        "\\begin{array}{ccc}\n",
        "-1 & 2 & 3 \\\\\n",
        "4 & -5 & 6 \\\\\n",
        "7 & 8 & -9 \\\\\n",
        "\\end{array}\n",
        "\\right]\n",
        ",B=\\left[\n",
        "\\begin{array}{ccc}\n",
        "0 & 2 & 1 \\\\\n",
        "0 & 2 & -8 \\\\\n",
        "2 & 9 & -1 \\\\\n",
        "\\end{array}\n",
        "\\right]\n",
        "\\end{eqnarray}<br>\n",
        "AとBの行列積を手計算で解いてください。\n",
        "\n",
        "\n",
        "計算過程もマークダウンテキストを用いて説明してください。\n"
      ]
    },
    {
      "cell_type": "markdown",
      "metadata": {
        "id": "AhHRD3880zrq"
      },
      "source": [
        "___\n",
        "以下のような計算をする"
      ]
    },
    {
      "cell_type": "markdown",
      "metadata": {
        "id": "QvdYP4rZp89v"
      },
      "source": [
        "$$\n",
        "\\begin{bmatrix}\n",
        "(-1*0)+(2*0)+(3*2) & (-1*2)+(2*2)+(3*9) & (-1*1)+(2*-8)+(3*-1)\\\\\n",
        "(4*0)+(-5*0)+(6*2) & (4*2)+(-5*2)+(6*9) & (4*1)+(-5*-8)+(6*-1)\\\\\n",
        "(7*0)+(8*0)+(-9*2) & (7*2)+(8*2)+(-9*9) & (7*1)+(8*-8)+(-9*-1)\\\\\n",
        "\\end{bmatrix}\n",
        "$$"
      ]
    },
    {
      "cell_type": "markdown",
      "metadata": {
        "id": "3bkZLpCMzOzk"
      },
      "source": [
        "$$\n",
        "\\begin{bmatrix}\n",
        "6 &29&-20\\\\\n",
        "12& 52& 38\\\\\n",
        "-18& 51& 48\\\\\n",
        "\\end{bmatrix}\n",
        "$$"
      ]
    },
    {
      "cell_type": "markdown",
      "metadata": {
        "id": "1Jp8PQW91W5_"
      },
      "source": [
        "##**【問題2】NumPyの関数による計算**\n",
        "この行列積はNumPyのnp.matmul()やnp.dot()、または@演算子を使うことで簡単に計算できます。\n",
        "\n",
        "\n",
        "これらを使い行列積を計算してください。\n",
        "\n"
      ]
    },
    {
      "cell_type": "code",
      "metadata": {
        "colab": {
          "base_uri": "https://localhost:8080/"
        },
        "id": "QD97UVf6DkJq",
        "outputId": "15486229-7df1-41f4-e9e1-a0679a07da43"
      },
      "source": [
        "cal_dot = np.dot(a_ndarray, b_ndarray)\n",
        "cal_dot"
      ],
      "execution_count": 2,
      "outputs": [
        {
          "output_type": "execute_result",
          "data": {
            "text/plain": [
              "array([[  6,  29, -20],\n",
              "       [ 12,  52,  38],\n",
              "       [-18, -51, -48]])"
            ]
          },
          "metadata": {
            "tags": []
          },
          "execution_count": 2
        }
      ]
    },
    {
      "cell_type": "code",
      "metadata": {
        "colab": {
          "base_uri": "https://localhost:8080/"
        },
        "id": "AeDvDXHr4J25",
        "outputId": "41f45d67-9aef-4b96-ea92-83a1722b6eeb"
      },
      "source": [
        "cal_matmul = np.matmul(a_ndarray, b_ndarray)\n",
        "cal_matmul"
      ],
      "execution_count": 3,
      "outputs": [
        {
          "output_type": "execute_result",
          "data": {
            "text/plain": [
              "array([[  6,  29, -20],\n",
              "       [ 12,  52,  38],\n",
              "       [-18, -51, -48]])"
            ]
          },
          "metadata": {
            "tags": []
          },
          "execution_count": 3
        }
      ]
    },
    {
      "cell_type": "code",
      "metadata": {
        "colab": {
          "base_uri": "https://localhost:8080/"
        },
        "id": "bg0fv9jM4XeH",
        "outputId": "f398f109-a5a9-4742-e78f-4f1e9497220f"
      },
      "source": [
        "cal_at = a_ndarray @ b_ndarray\n",
        "cal_at"
      ],
      "execution_count": 4,
      "outputs": [
        {
          "output_type": "execute_result",
          "data": {
            "text/plain": [
              "array([[  6,  29, -20],\n",
              "       [ 12,  52,  38],\n",
              "       [-18, -51, -48]])"
            ]
          },
          "metadata": {
            "tags": []
          },
          "execution_count": 4
        }
      ]
    },
    {
      "cell_type": "markdown",
      "metadata": {
        "id": "qf3kJ7NW5voE"
      },
      "source": [
        "##**【問題3】ある要素の計算を実装**\n",
        "$$\n",
        "\\sum^{2}_{k=0}a_{0,k}b_{k,0}\n",
        "$$\n"
      ]
    },
    {
      "cell_type": "code",
      "metadata": {
        "colab": {
          "base_uri": "https://localhost:8080/"
        },
        "id": "70_Eg5StUp5u",
        "outputId": "a2853a89-7ab9-42fa-fa7a-a1ee50a70038"
      },
      "source": [
        "a = a_ndarray\n",
        "b = b_ndarray\n",
        "\n",
        "cal_one = a[0,0]*b[0,0]+a[0,1]*b[1,0]+a[0,2]*b[2,0]\n",
        "cal_one"
      ],
      "execution_count": 18,
      "outputs": [
        {
          "output_type": "execute_result",
          "data": {
            "text/plain": [
              "6"
            ]
          },
          "metadata": {
            "tags": []
          },
          "execution_count": 18
        }
      ]
    },
    {
      "cell_type": "code",
      "metadata": {
        "colab": {
          "base_uri": "https://localhost:8080/"
        },
        "id": "SDfmiXLbXvOW",
        "outputId": "935ed33a-9a1d-42b1-870a-26f0ae369b75"
      },
      "source": [
        "a = a_ndarray\n",
        "b = b_ndarray\n",
        "\n",
        "cal_one = a[0][0]*b[0][0]+a[0][1]*b[1][0]+a[0][2]*b[2][0]\n",
        "cal_one"
      ],
      "execution_count": 22,
      "outputs": [
        {
          "output_type": "execute_result",
          "data": {
            "text/plain": [
              "6"
            ]
          },
          "metadata": {
            "tags": []
          },
          "execution_count": 22
        }
      ]
    },
    {
      "cell_type": "code",
      "metadata": {
        "colab": {
          "base_uri": "https://localhost:8080/"
        },
        "id": "Gf-kNcpIWiaO",
        "outputId": "07be8f9a-5347-4ee9-b814-6247535d7290"
      },
      "source": [
        "for k in range(len(a_ndarray)):\n",
        "  ans_ab = a_ndarray[0][k]*b_ndarray[k][0]\n",
        "ans_ab"
      ],
      "execution_count": 117,
      "outputs": [
        {
          "output_type": "execute_result",
          "data": {
            "text/plain": [
              "6"
            ]
          },
          "metadata": {
            "tags": []
          },
          "execution_count": 117
        }
      ]
    },
    {
      "cell_type": "code",
      "metadata": {
        "id": "N1z7VX1a0iEE"
      },
      "source": [
        ""
      ],
      "execution_count": null,
      "outputs": []
    },
    {
      "cell_type": "markdown",
      "metadata": {
        "id": "WYtF1WQTcBHo"
      },
      "source": [
        "##**【問題4】行列積を行う関数の作成**\n",
        "問題3のコードを拡張し、行列積のスクラッチ実装を完成させてください。行列AとBを引数に受け取り、行列積を返す関数としてください。\n",
        "\n"
      ]
    },
    {
      "cell_type": "code",
      "metadata": {
        "colab": {
          "base_uri": "https://localhost:8080/"
        },
        "id": "WhWBzVOwrsBU",
        "outputId": "4ab6f487-3c6f-4888-da60-59b0cd90b339"
      },
      "source": [
        "def matrix_loading_generator(matrix_a, matrix_b):\n",
        "  matrix_loading = np.zeros((matrix_a.shape[0],matrix_b.shape[0]))\n",
        "  for i in range(matrix_a.shape[0]):\n",
        "    for j in range(matrix_b.shape[1]):\n",
        "      for k in range(matrix_a.shape[1]):\n",
        "        matrix_loading[i, j] += matrix_a[i, k] * matrix_b[k, j]\n",
        "  return matrix_loading\n",
        "\n",
        "matrix_loading_generator(a_ndarray, b_ndarray)"
      ],
      "execution_count": 162,
      "outputs": [
        {
          "output_type": "execute_result",
          "data": {
            "text/plain": [
              "array([[  6.,  29., -20.],\n",
              "       [ 12.,  52.,  38.],\n",
              "       [-18., -51., -48.]])"
            ]
          },
          "metadata": {
            "tags": []
          },
          "execution_count": 162
        }
      ]
    },
    {
      "cell_type": "markdown",
      "metadata": {
        "id": "EHhpQvtt2h2y"
      },
      "source": [
        "##**【問題5】計算が定義されない入力を判定する**"
      ]
    },
    {
      "cell_type": "markdown",
      "metadata": {
        "id": "R5fuOG8777jy"
      },
      "source": [
        "問4で作成した関数に入力された形が同じかどうか判断する式を入れる"
      ]
    },
    {
      "cell_type": "code",
      "metadata": {
        "colab": {
          "base_uri": "https://localhost:8080/"
        },
        "id": "DdN2OvES2uDt",
        "outputId": "2cacb52a-80a7-4895-d440-d2e0a34d1b58"
      },
      "source": [
        "def matrix_loading_generator_kai(matrix_a, matrix_b):\n",
        "  a_array_type = matrix_a[0].shape \n",
        "  b_column = matrix_b[0:,0]\n",
        "  b_column_type = b_column.shape\n",
        "  if a_array_type != b_column_type:\n",
        "    print(\"入力した行列の列数と行数が等しくなく計算できません。入力したデータの形を確認してください\") \n",
        "  else:\n",
        "    matrix_loading = np.zeros((matrix_a.shape[0],matrix_b.shape[0]))\n",
        "    for i in range(matrix_a.shape[0]):\n",
        "      for j in range(matrix_b.shape[1]):\n",
        "        for k in range(matrix_a.shape[1]):\n",
        "          matrix_loading[i, j] += matrix_a[i, k] * matrix_b[k, j]\n",
        "    return matrix_loading\n",
        "\n",
        "matrix_loading_generator_kai(a_ndarray, b_ndarray)"
      ],
      "execution_count": 163,
      "outputs": [
        {
          "output_type": "execute_result",
          "data": {
            "text/plain": [
              "array([[  6.,  29., -20.],\n",
              "       [ 12.,  52.,  38.],\n",
              "       [-18., -51., -48.]])"
            ]
          },
          "metadata": {
            "tags": []
          },
          "execution_count": 163
        }
      ]
    },
    {
      "cell_type": "markdown",
      "metadata": {
        "id": "iO-4VY9M5A7J"
      },
      "source": [
        "___\n",
        "入力される方に問題がある例をテスト"
      ]
    },
    {
      "cell_type": "code",
      "metadata": {
        "colab": {
          "base_uri": "https://localhost:8080/"
        },
        "id": "32BwJRVk44aa",
        "outputId": "4a58274f-d961-4020-b9ef-1ba45e865ddc"
      },
      "source": [
        "d_ndarray_ = np.array([[-1, 2, 3], [4, -5, 6]])\n",
        "e_ndarray = np.array([[-9, 8, 7], [6, -5, 4]])\n",
        "\n",
        "matrix_loading_generator_kai(d_ndarray_, e_ndarray)"
      ],
      "execution_count": 164,
      "outputs": [
        {
          "output_type": "stream",
          "text": [
            "入力した行列の列数と行数が等しくなく計算できません。入力したデータの形を確認してください\n"
          ],
          "name": "stdout"
        }
      ]
    },
    {
      "cell_type": "markdown",
      "metadata": {
        "id": "Z8ZVgGsy8h5t"
      },
      "source": [
        "##**【問題6】転置**"
      ]
    },
    {
      "cell_type": "markdown",
      "metadata": {
        "id": "4M2jpltS8x2k"
      },
      "source": [
        "___\n",
        "np.transpose()"
      ]
    },
    {
      "cell_type": "code",
      "metadata": {
        "colab": {
          "base_uri": "https://localhost:8080/"
        },
        "id": "7axQwxW75VMo",
        "outputId": "a396a7da-8a38-436a-dbd8-3dfb7d524037"
      },
      "source": [
        "e_ndarray_tr = np.transpose(e_ndarray)\n",
        "e_ndarray_tr"
      ],
      "execution_count": 166,
      "outputs": [
        {
          "output_type": "execute_result",
          "data": {
            "text/plain": [
              "array([[-9,  6],\n",
              "       [ 8, -5],\n",
              "       [ 7,  4]])"
            ]
          },
          "metadata": {
            "tags": []
          },
          "execution_count": 166
        }
      ]
    },
    {
      "cell_type": "code",
      "metadata": {
        "colab": {
          "base_uri": "https://localhost:8080/"
        },
        "id": "cGisbwlC89q8",
        "outputId": "6e9d9703-6270-4c70-ffe0-09a268974f41"
      },
      "source": [
        "matrix_loading_generator_kai(d_ndarray_, e_ndarray_tr)"
      ],
      "execution_count": 167,
      "outputs": [
        {
          "output_type": "execute_result",
          "data": {
            "text/plain": [
              "array([[ 46.,  -4.,   0.],\n",
              "       [-34.,  73.,   0.]])"
            ]
          },
          "metadata": {
            "tags": []
          },
          "execution_count": 167
        }
      ]
    },
    {
      "cell_type": "markdown",
      "metadata": {
        "id": "2ZtyDcY29Qej"
      },
      "source": [
        "___\n",
        ".T"
      ]
    },
    {
      "cell_type": "code",
      "metadata": {
        "colab": {
          "base_uri": "https://localhost:8080/"
        },
        "id": "YMInalVG9FMe",
        "outputId": "c894b2fe-726e-4ca4-a48e-5d6d1776655e"
      },
      "source": [
        "e_ndarray_T = e_ndarray.T\n",
        "e_ndarray_T"
      ],
      "execution_count": 168,
      "outputs": [
        {
          "output_type": "execute_result",
          "data": {
            "text/plain": [
              "array([[-9,  6],\n",
              "       [ 8, -5],\n",
              "       [ 7,  4]])"
            ]
          },
          "metadata": {
            "tags": []
          },
          "execution_count": 168
        }
      ]
    },
    {
      "cell_type": "code",
      "metadata": {
        "colab": {
          "base_uri": "https://localhost:8080/"
        },
        "id": "dgnMMsNI9hYQ",
        "outputId": "831dce1c-aa60-4bbb-c6f1-e2de015df536"
      },
      "source": [
        "matrix_loading_generator_kai(d_ndarray_, e_ndarray_T)"
      ],
      "execution_count": 169,
      "outputs": [
        {
          "output_type": "execute_result",
          "data": {
            "text/plain": [
              "array([[ 46.,  -4.,   0.],\n",
              "       [-34.,  73.,   0.]])"
            ]
          },
          "metadata": {
            "tags": []
          },
          "execution_count": 169
        }
      ]
    },
    {
      "cell_type": "code",
      "metadata": {
        "id": "XH8BRpxl9mRv"
      },
      "source": [
        ""
      ],
      "execution_count": null,
      "outputs": []
    }
  ]
}