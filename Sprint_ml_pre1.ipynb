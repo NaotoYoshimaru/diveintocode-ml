{
  "nbformat": 4,
  "nbformat_minor": 0,
  "metadata": {
    "colab": {
      "name": "Sprint_ml_pre.ipynb",
      "provenance": [],
      "collapsed_sections": []
    },
    "kernelspec": {
      "name": "python3",
      "display_name": "Python 3"
    }
  },
  "cells": [
    {
      "cell_type": "markdown",
      "metadata": {
        "id": "OyAjYz1bbUps"
      },
      "source": [
        "#**問題1　train_test_splitのスクラッチ**\n"
      ]
    },
    {
      "cell_type": "code",
      "metadata": {
        "colab": {
          "base_uri": "https://localhost:8080/",
          "height": 35
        },
        "id": "GegF2fAvb6sr",
        "outputId": "60b44041-98d6-4eeb-8984-2288bea2771c"
      },
      "source": [
        "'''\n",
        "X = [[0,1],[2,3],[4,5],[6,7],[8,9]]\n",
        "y = [1,1,1,1,0]\n",
        "#z = [0,1]\n",
        "'''"
      ],
      "execution_count": 99,
      "outputs": [
        {
          "output_type": "execute_result",
          "data": {
            "application/vnd.google.colaboratory.intrinsic+json": {
              "type": "string"
            },
            "text/plain": [
              "'\\nX = [[0,1],[2,3],[4,5],[6,7],[8,9]]\\ny = [1,1,1,1,0]\\n#z = [0,1]\\n'"
            ]
          },
          "metadata": {
            "tags": []
          },
          "execution_count": 99
        }
      ]
    },
    {
      "cell_type": "code",
      "metadata": {
        "colab": {
          "base_uri": "https://localhost:8080/",
          "height": 154
        },
        "id": "zWo_0PnABWfO",
        "outputId": "79976e13-d5af-4d75-d7c4-00f771e83851"
      },
      "source": [
        "'''import random\n",
        "\n",
        "train_size=0.8\n",
        "output_num_train = len(X)*train_size\n",
        "num_train = round(output_num_train)\n",
        "#print(num_train)\n",
        "\n",
        "for i in range(num_train+1):\n",
        "    train_num_X = random.sample(X, i) \n",
        "    train_num_y = random.sample(y, i)\n",
        "print(train_num_X)\n",
        "print(train_num_y)\n",
        "\n",
        "a_set = set(tuple(e) for e in X)\n",
        "b_set = set(tuple(e) for e in train_num_X)\n",
        "test_num_X = [list(e) for e in a_set ^ b_set]\n",
        "print(list(test_num_X))\n",
        "test_num_y = set(y) ^ set(train_num_y)\n",
        "#c_set = set(tuple(e) for e in y)\n",
        "#d_set = set(tuple(e) for e in train_num_y)\n",
        "#test_num_y = [list(e) for e in c_set ^ d_set]\n",
        "print(list(test_num_y))        \n",
        "#return train_num_X, test_num_X, train_num_y, test_num_y\n",
        "'''"
      ],
      "execution_count": 100,
      "outputs": [
        {
          "output_type": "execute_result",
          "data": {
            "application/vnd.google.colaboratory.intrinsic+json": {
              "type": "string"
            },
            "text/plain": [
              "'import random\\n\\ntrain_size=0.8\\noutput_num_train = len(X)*train_size\\nnum_train = round(output_num_train)\\n#print(num_train)\\n\\nfor i in range(num_train+1):\\n    train_num_X = random.sample(X, i) \\n    train_num_y = random.sample(y, i)\\nprint(train_num_X)\\nprint(train_num_y)\\n\\na_set = set(tuple(e) for e in X)\\nb_set = set(tuple(e) for e in train_num_X)\\ntest_num_X = [list(e) for e in a_set ^ b_set]\\nprint(list(test_num_X))\\ntest_num_y = set(y) ^ set(train_num_y)\\n#c_set = set(tuple(e) for e in y)\\n#d_set = set(tuple(e) for e in train_num_y)\\n#test_num_y = [list(e) for e in c_set ^ d_set]\\nprint(list(test_num_y))        \\n#return train_num_X, test_num_X, train_num_y, test_num_y\\n'"
            ]
          },
          "metadata": {
            "tags": []
          },
          "execution_count": 100
        }
      ]
    },
    {
      "cell_type": "code",
      "metadata": {
        "id": "QYUl8DJh_OCM"
      },
      "source": [
        "#test_test = random.sample(X, 2) \n",
        "#test_test"
      ],
      "execution_count": 101,
      "outputs": []
    },
    {
      "cell_type": "markdown",
      "metadata": {
        "id": "I91fiq14cSw6"
      },
      "source": [
        "TEST： train_test_splitを使ってみる"
      ]
    },
    {
      "cell_type": "code",
      "metadata": {
        "colab": {
          "base_uri": "https://localhost:8080/",
          "height": 69
        },
        "id": "ebG6_rSYcYY2",
        "outputId": "a67771c0-d6e9-4e1e-c9c4-2ddece7e33a4"
      },
      "source": [
        "'''\n",
        "from sklearn.model_selection import train_test_split\n",
        "\n",
        "X_train, X_test, y_train, y_test = train_test_split(X_iris_data, y_iris_data, train_size=0.8)\n",
        "print(X_train)\n",
        "print(X_test)\n",
        "print(y_train)\n",
        "print(y_test)\n",
        "'''\n"
      ],
      "execution_count": 102,
      "outputs": [
        {
          "output_type": "execute_result",
          "data": {
            "application/vnd.google.colaboratory.intrinsic+json": {
              "type": "string"
            },
            "text/plain": [
              "'\\nfrom sklearn.model_selection import train_test_split\\n\\nX_train, X_test, y_train, y_test = train_test_split(X_iris_data, y_iris_data, train_size=0.8)\\nprint(X_train)\\nprint(X_test)\\nprint(y_train)\\nprint(y_test)\\n'"
            ]
          },
          "metadata": {
            "tags": []
          },
          "execution_count": 102
        }
      ]
    },
    {
      "cell_type": "markdown",
      "metadata": {
        "id": "DHKALjZsyeWo"
      },
      "source": [
        "train_test_splitのスクラッチ"
      ]
    },
    {
      "cell_type": "code",
      "metadata": {
        "id": "Rst0J0HU_L43"
      },
      "source": [
        "import numpy as np\n",
        "\n",
        "def scrath_train_test_split(X, y, train_size=0.8,):\n",
        "    Z = np.c_[X, y]\n",
        "    np.random.shuffle(Z)\n",
        "    X_shuffle = Z[:, :-1]\n",
        "    y_shuffle = Z[:, -1]\n",
        "    y_shuffle = y_shuffle.astype(\"int\")\n",
        "\n",
        "    X_train, X_test = np.split(X_shuffle, [int(X[:,1].size*train_size)],0)\n",
        "    y_train, y_test = np.split(y_shuffle, [int(y.size*train_size)])\n",
        "    #print(X_train)\n",
        "    #print(X_test)\n",
        "    #y_train.reshape(-1, 1)\n",
        "    #y_test.reshape(-1, 1)\n",
        "\n",
        "    return X_train, X_test, y_train, y_test"
      ],
      "execution_count": 103,
      "outputs": []
    },
    {
      "cell_type": "code",
      "metadata": {
        "colab": {
          "base_uri": "https://localhost:8080/"
        },
        "id": "U-ZXO4gPrObw",
        "outputId": "92799008-8f2b-47c0-a4c6-d40023878e51"
      },
      "source": [
        "print(y_train)"
      ],
      "execution_count": 104,
      "outputs": [
        {
          "output_type": "stream",
          "text": [
            "[-1  1 -1  1 -1 -1 -1 -1  1 -1 -1 -1  1  1 -1 -1 -1  1 -1 -1 -1  1 -1 -1\n",
            " -1  1 -1  1  1  1  1  1 -1  1 -1  1 -1  1  1  1 -1 -1  1  1 -1  1 -1 -1\n",
            " -1 -1 -1  1  1  1 -1  1 -1  1  1 -1 -1 -1 -1  1 -1  1  1 -1 -1  1  1  1\n",
            "  1 -1  1  1  1  1 -1  1 -1 -1 -1 -1 -1 -1  1 -1  1 -1  1  1 -1 -1  1 -1\n",
            "  1 -1  1  1  1 -1  1  1  1 -1  1  1  1  1 -1 -1 -1 -1  1  1  1  1 -1 -1\n",
            "  1  1  1  1 -1 -1 -1 -1  1  1 -1 -1 -1  1  1  1 -1 -1 -1 -1  1  1  1 -1\n",
            " -1 -1  1  1 -1  1  1 -1 -1  1  1 -1 -1 -1  1 -1 -1 -1  1 -1 -1  1  1 -1\n",
            " -1 -1 -1  1 -1  1  1 -1 -1 -1 -1  1 -1 -1 -1 -1  1 -1  1 -1 -1  1  1 -1\n",
            "  1  1  1 -1 -1 -1 -1 -1  1  1  1 -1  1  1 -1  1  1 -1 -1 -1  1  1  1 -1\n",
            " -1  1  1 -1 -1  1 -1 -1 -1 -1  1 -1 -1  1  1 -1 -1 -1 -1 -1  1  1  1 -1\n",
            " -1  1 -1 -1  1 -1  1 -1  1 -1 -1  1 -1 -1 -1 -1  1 -1 -1  1 -1 -1  1  1\n",
            " -1 -1  1  1 -1 -1 -1  1  1  1  1  1  1  1  1 -1 -1 -1  1  1  1 -1 -1  1\n",
            "  1 -1 -1  1  1 -1  1  1  1  1  1  1 -1  1  1 -1 -1  1 -1  1 -1  1  1 -1\n",
            "  1  1 -1 -1 -1 -1 -1  1 -1  1 -1 -1  1 -1  1  1  1  1 -1  1  1 -1 -1 -1\n",
            " -1 -1 -1 -1  1 -1 -1  1  1 -1 -1 -1 -1  1  1  1 -1 -1 -1  1  1  1  1  1\n",
            "  1  1  1  1  1  1 -1 -1  1  1  1  1 -1  1  1  1 -1 -1  1 -1 -1 -1 -1 -1\n",
            "  1  1  1  1 -1 -1 -1 -1  1 -1  1 -1  1 -1  1  1]\n"
          ],
          "name": "stdout"
        }
      ]
    },
    {
      "cell_type": "code",
      "metadata": {
        "colab": {
          "base_uri": "https://localhost:8080/",
          "height": 154
        },
        "id": "YEBBLzwgat26",
        "outputId": "56a8399b-b7e6-4ed6-e36e-64d5bbf8e1f1"
      },
      "source": [
        "'''\n",
        "import random\n",
        "\n",
        "def scratch_train_test_split(X, y, train_size=0.8,):\n",
        "    output_num_train = len(X)*train_size\n",
        "    num_train = round(output_num_train)\n",
        "    #print(num_train)\n",
        "\n",
        "    for i in range(num_train+1):\n",
        "        train_num_X = random.sample(X, i) \n",
        "        train_num_y = random.sample(y, i)\n",
        "    #print(train_num_X)\n",
        "    #print(train_num_y)\n",
        "\n",
        "    a_set = set(tuple(e) for e in X)\n",
        "    b_set = set(tuple(e) for e in train_num_X)\n",
        "    test_num_X = [list(e) for e in a_set ^ b_set]\n",
        "    #print(list(test_num_X))\n",
        "    test_num_y = list(set(y) ^ set(train_num_y))\n",
        "    #c_set = set(tuple(e) for e in y)\n",
        "    #d_set = set(tuple(e) for e in train_num_y)\n",
        "    #test_num_y = [list(e) for e in c_set ^ d_set]\n",
        "    #print(list(test_num_y))        \n",
        "\n",
        "    return train_num_X, test_num_X, train_num_y, test_num_y\n",
        "'''"
      ],
      "execution_count": 105,
      "outputs": [
        {
          "output_type": "execute_result",
          "data": {
            "application/vnd.google.colaboratory.intrinsic+json": {
              "type": "string"
            },
            "text/plain": [
              "'\\nimport random\\n\\ndef scratch_train_test_split(X, y, train_size=0.8,):\\n    output_num_train = len(X)*train_size\\n    num_train = round(output_num_train)\\n    #print(num_train)\\n\\n    for i in range(num_train+1):\\n        train_num_X = random.sample(X, i) \\n        train_num_y = random.sample(y, i)\\n    #print(train_num_X)\\n    #print(train_num_y)\\n\\n    a_set = set(tuple(e) for e in X)\\n    b_set = set(tuple(e) for e in train_num_X)\\n    test_num_X = [list(e) for e in a_set ^ b_set]\\n    #print(list(test_num_X))\\n    test_num_y = list(set(y) ^ set(train_num_y))\\n    #c_set = set(tuple(e) for e in y)\\n    #d_set = set(tuple(e) for e in train_num_y)\\n    #test_num_y = [list(e) for e in c_set ^ d_set]\\n    #print(list(test_num_y))        \\n\\n    return train_num_X, test_num_X, train_num_y, test_num_y\\n'"
            ]
          },
          "metadata": {
            "tags": []
          },
          "execution_count": 105
        }
      ]
    },
    {
      "cell_type": "code",
      "metadata": {
        "colab": {
          "base_uri": "https://localhost:8080/",
          "height": 52
        },
        "id": "5D-bwMt_KYp1",
        "outputId": "0063a466-9d26-4baf-ef4a-a299bfffa121"
      },
      "source": [
        "'''\n",
        "X_train, X_test, y_train, y_test = scratch_train_test_split(X, y, train_size=0.8)\n",
        "print(X_train)\n",
        "print(X_test)\n",
        "print(y_train)\n",
        "print(y_test)\n",
        "'''"
      ],
      "execution_count": 106,
      "outputs": [
        {
          "output_type": "execute_result",
          "data": {
            "application/vnd.google.colaboratory.intrinsic+json": {
              "type": "string"
            },
            "text/plain": [
              "'\\nX_train, X_test, y_train, y_test = scratch_train_test_split(X, y, train_size=0.8)\\nprint(X_train)\\nprint(X_test)\\nprint(y_train)\\nprint(y_test)\\n'"
            ]
          },
          "metadata": {
            "tags": []
          },
          "execution_count": 106
        }
      ]
    },
    {
      "cell_type": "code",
      "metadata": {
        "id": "XMvST1SkqqdS"
      },
      "source": [
        "from sklearn.linear_model import SGDClassifier\n",
        "from sklearn.svm import SVC\n",
        "from sklearn.tree import DecisionTreeClassifier\n",
        "\n",
        "sgd = SGDClassifier(loss=\"log\")\n",
        "svc = SVC()\n",
        "tree = DecisionTreeClassifier()\n",
        "\n"
      ],
      "execution_count": 107,
      "outputs": []
    },
    {
      "cell_type": "code",
      "metadata": {
        "id": "pMe-hQOi0xCK"
      },
      "source": [
        "from sklearn.datasets import load_iris\n",
        "import pandas as pd"
      ],
      "execution_count": 108,
      "outputs": []
    },
    {
      "cell_type": "code",
      "metadata": {
        "id": "rObCkyqp01F6"
      },
      "source": [
        "iris_data = load_iris()\n",
        "X_iris = pd.DataFrame(iris_data[\"data\"], columns = [\"sepal_length\", \"sepal_width\", \"petal_length\", \"petal_width\"])\n",
        "y_iris = pd.DataFrame(iris_data[\"target\"], columns=[\"Species\"])\n",
        "\n",
        "df = pd.concat([X_iris, y_iris],axis=1)"
      ],
      "execution_count": 109,
      "outputs": []
    },
    {
      "cell_type": "code",
      "metadata": {
        "colab": {
          "base_uri": "https://localhost:8080/",
          "height": 419
        },
        "id": "W3ihwaxZ06ma",
        "outputId": "62ffe8a5-f3f6-475c-e62f-d698d4b67638"
      },
      "source": [
        "df"
      ],
      "execution_count": 110,
      "outputs": [
        {
          "output_type": "execute_result",
          "data": {
            "text/html": [
              "<div>\n",
              "<style scoped>\n",
              "    .dataframe tbody tr th:only-of-type {\n",
              "        vertical-align: middle;\n",
              "    }\n",
              "\n",
              "    .dataframe tbody tr th {\n",
              "        vertical-align: top;\n",
              "    }\n",
              "\n",
              "    .dataframe thead th {\n",
              "        text-align: right;\n",
              "    }\n",
              "</style>\n",
              "<table border=\"1\" class=\"dataframe\">\n",
              "  <thead>\n",
              "    <tr style=\"text-align: right;\">\n",
              "      <th></th>\n",
              "      <th>sepal_length</th>\n",
              "      <th>sepal_width</th>\n",
              "      <th>petal_length</th>\n",
              "      <th>petal_width</th>\n",
              "      <th>Species</th>\n",
              "    </tr>\n",
              "  </thead>\n",
              "  <tbody>\n",
              "    <tr>\n",
              "      <th>0</th>\n",
              "      <td>5.1</td>\n",
              "      <td>3.5</td>\n",
              "      <td>1.4</td>\n",
              "      <td>0.2</td>\n",
              "      <td>0</td>\n",
              "    </tr>\n",
              "    <tr>\n",
              "      <th>1</th>\n",
              "      <td>4.9</td>\n",
              "      <td>3.0</td>\n",
              "      <td>1.4</td>\n",
              "      <td>0.2</td>\n",
              "      <td>0</td>\n",
              "    </tr>\n",
              "    <tr>\n",
              "      <th>2</th>\n",
              "      <td>4.7</td>\n",
              "      <td>3.2</td>\n",
              "      <td>1.3</td>\n",
              "      <td>0.2</td>\n",
              "      <td>0</td>\n",
              "    </tr>\n",
              "    <tr>\n",
              "      <th>3</th>\n",
              "      <td>4.6</td>\n",
              "      <td>3.1</td>\n",
              "      <td>1.5</td>\n",
              "      <td>0.2</td>\n",
              "      <td>0</td>\n",
              "    </tr>\n",
              "    <tr>\n",
              "      <th>4</th>\n",
              "      <td>5.0</td>\n",
              "      <td>3.6</td>\n",
              "      <td>1.4</td>\n",
              "      <td>0.2</td>\n",
              "      <td>0</td>\n",
              "    </tr>\n",
              "    <tr>\n",
              "      <th>...</th>\n",
              "      <td>...</td>\n",
              "      <td>...</td>\n",
              "      <td>...</td>\n",
              "      <td>...</td>\n",
              "      <td>...</td>\n",
              "    </tr>\n",
              "    <tr>\n",
              "      <th>145</th>\n",
              "      <td>6.7</td>\n",
              "      <td>3.0</td>\n",
              "      <td>5.2</td>\n",
              "      <td>2.3</td>\n",
              "      <td>2</td>\n",
              "    </tr>\n",
              "    <tr>\n",
              "      <th>146</th>\n",
              "      <td>6.3</td>\n",
              "      <td>2.5</td>\n",
              "      <td>5.0</td>\n",
              "      <td>1.9</td>\n",
              "      <td>2</td>\n",
              "    </tr>\n",
              "    <tr>\n",
              "      <th>147</th>\n",
              "      <td>6.5</td>\n",
              "      <td>3.0</td>\n",
              "      <td>5.2</td>\n",
              "      <td>2.0</td>\n",
              "      <td>2</td>\n",
              "    </tr>\n",
              "    <tr>\n",
              "      <th>148</th>\n",
              "      <td>6.2</td>\n",
              "      <td>3.4</td>\n",
              "      <td>5.4</td>\n",
              "      <td>2.3</td>\n",
              "      <td>2</td>\n",
              "    </tr>\n",
              "    <tr>\n",
              "      <th>149</th>\n",
              "      <td>5.9</td>\n",
              "      <td>3.0</td>\n",
              "      <td>5.1</td>\n",
              "      <td>1.8</td>\n",
              "      <td>2</td>\n",
              "    </tr>\n",
              "  </tbody>\n",
              "</table>\n",
              "<p>150 rows × 5 columns</p>\n",
              "</div>"
            ],
            "text/plain": [
              "     sepal_length  sepal_width  petal_length  petal_width  Species\n",
              "0             5.1          3.5           1.4          0.2        0\n",
              "1             4.9          3.0           1.4          0.2        0\n",
              "2             4.7          3.2           1.3          0.2        0\n",
              "3             4.6          3.1           1.5          0.2        0\n",
              "4             5.0          3.6           1.4          0.2        0\n",
              "..            ...          ...           ...          ...      ...\n",
              "145           6.7          3.0           5.2          2.3        2\n",
              "146           6.3          2.5           5.0          1.9        2\n",
              "147           6.5          3.0           5.2          2.0        2\n",
              "148           6.2          3.4           5.4          2.3        2\n",
              "149           5.9          3.0           5.1          1.8        2\n",
              "\n",
              "[150 rows x 5 columns]"
            ]
          },
          "metadata": {
            "tags": []
          },
          "execution_count": 110
        }
      ]
    },
    {
      "cell_type": "code",
      "metadata": {
        "id": "yP1UXmyF1lL0"
      },
      "source": [
        "df2 = df[df[\"Species\"].isin([\"1\",\"2\"])]\n",
        "df2\n",
        "X_iris_data = df2.iloc[:,:4].values\n",
        "y_iris_data = df2.iloc[:,4].values"
      ],
      "execution_count": 111,
      "outputs": []
    },
    {
      "cell_type": "code",
      "metadata": {
        "id": "wPVQAAEv_b2x"
      },
      "source": [
        "X_train, X_test, y_train, y_test = scrath_train_test_split(X_iris_data, y_iris_data, train_size=0.8)"
      ],
      "execution_count": 112,
      "outputs": []
    },
    {
      "cell_type": "code",
      "metadata": {
        "colab": {
          "base_uri": "https://localhost:8080/"
        },
        "id": "9WabGI3ARgZc",
        "outputId": "d5e23229-97af-40cd-9589-a84523e8aaaf"
      },
      "source": [
        "print(X_train.shape)\n",
        "print(X_test.shape)\n",
        "print(y_train.shape)\n",
        "print(y_test.shape)"
      ],
      "execution_count": 113,
      "outputs": [
        {
          "output_type": "stream",
          "text": [
            "(80, 4)\n",
            "(20, 4)\n",
            "(80,)\n",
            "(20,)\n"
          ],
          "name": "stdout"
        }
      ]
    },
    {
      "cell_type": "code",
      "metadata": {
        "id": "17nUPrGP_jhO"
      },
      "source": [
        "print(X_train)\n",
        "print(X_test)\n",
        "print(y_train)\n",
        "print(y_test)"
      ],
      "execution_count": null,
      "outputs": []
    },
    {
      "cell_type": "code",
      "metadata": {
        "colab": {
          "base_uri": "https://localhost:8080/"
        },
        "id": "C9tqoRsX_mjZ",
        "outputId": "5d1fad4b-8f5c-4090-80b9-95bab43d7509"
      },
      "source": [
        "model_log = SGDClassifier(loss=\"log\")\n",
        "model_log.fit(X_train, y_train)\n",
        "y_pred_log = model_log.predict(X_test)\n",
        "print(y_pred_log)\n",
        "print(y_test)"
      ],
      "execution_count": 115,
      "outputs": [
        {
          "output_type": "stream",
          "text": [
            "[2 2 2 2 1 2 2 1 2 2 2 1 1 2 2 2 2 2 1 1]\n",
            "[2 2 2 2 1 1 1 1 2 2 2 1 1 2 2 2 2 2 1 1]\n"
          ],
          "name": "stdout"
        }
      ]
    },
    {
      "cell_type": "code",
      "metadata": {
        "colab": {
          "base_uri": "https://localhost:8080/"
        },
        "id": "G8HtFIjbwXQW",
        "outputId": "c3447c75-05b9-4970-eb87-111755d13b7c"
      },
      "source": [
        "from sklearn.metrics import accuracy_score\n",
        "\n",
        "accuracy_score(y_test, y_pred_log)"
      ],
      "execution_count": 116,
      "outputs": [
        {
          "output_type": "execute_result",
          "data": {
            "text/plain": [
              "0.9"
            ]
          },
          "metadata": {
            "tags": []
          },
          "execution_count": 116
        }
      ]
    },
    {
      "cell_type": "code",
      "metadata": {
        "colab": {
          "base_uri": "https://localhost:8080/",
          "height": 69
        },
        "id": "VciF3ytlh6YI",
        "outputId": "90ce36d8-0f8c-4c81-dd98-bced808f0830"
      },
      "source": [
        "'''\n",
        "from sklearn.model_selection import train_test_split\n",
        "\n",
        "X_train_t, X_test_t, y_train_t, y_test_t = train_test_split(X_iris_data, y_iris_data, train_size=0.8)\n",
        "print(X_train_t)\n",
        "print(X_test_t)\n",
        "print(y_train_t)\n",
        "print(y_test_t)\n",
        "'''"
      ],
      "execution_count": 117,
      "outputs": [
        {
          "output_type": "execute_result",
          "data": {
            "application/vnd.google.colaboratory.intrinsic+json": {
              "type": "string"
            },
            "text/plain": [
              "'\\nfrom sklearn.model_selection import train_test_split\\n\\nX_train_t, X_test_t, y_train_t, y_test_t = train_test_split(X_iris_data, y_iris_data, train_size=0.8)\\nprint(X_train_t)\\nprint(X_test_t)\\nprint(y_train_t)\\nprint(y_test_t)\\n'"
            ]
          },
          "metadata": {
            "tags": []
          },
          "execution_count": 117
        }
      ]
    },
    {
      "cell_type": "code",
      "metadata": {
        "colab": {
          "base_uri": "https://localhost:8080/",
          "height": 69
        },
        "id": "R5aht41mtaMU",
        "outputId": "4696effa-2073-47d8-c595-ddb1cd7e1804"
      },
      "source": [
        "'''model_log = SGDClassifier(loss=\"log\")\n",
        "model_log.fit(X_train_t, y_train_t)\n",
        "y_pred_log_t = model_log.predict(X_test_t)\n",
        "print(y_pred_log_t)\n",
        "print(y_test_t)\n",
        "\n",
        "accuracy_score(y_test, y_pred_log_t)\n",
        "'''"
      ],
      "execution_count": 118,
      "outputs": [
        {
          "output_type": "execute_result",
          "data": {
            "application/vnd.google.colaboratory.intrinsic+json": {
              "type": "string"
            },
            "text/plain": [
              "'model_log = SGDClassifier(loss=\"log\")\\nmodel_log.fit(X_train_t, y_train_t)\\ny_pred_log_t = model_log.predict(X_test_t)\\nprint(y_pred_log_t)\\nprint(y_test_t)\\n\\naccuracy_score(y_test, y_pred_log_t)\\n'"
            ]
          },
          "metadata": {
            "tags": []
          },
          "execution_count": 118
        }
      ]
    },
    {
      "cell_type": "code",
      "metadata": {
        "colab": {
          "base_uri": "https://localhost:8080/"
        },
        "id": "LLcvPhDhvCAG",
        "outputId": "2184939d-2c92-4309-afd9-09587b2b3fe6"
      },
      "source": [
        "model_svc = SVC()\n",
        "model_svc.fit(X_train, y_train)\n",
        "y_pred_svc = model_svc.predict(X_test)\n",
        "print(y_pred_svc)\n",
        "print(y_test)\n",
        "accuracy_score(y_test, y_pred_svc)"
      ],
      "execution_count": 119,
      "outputs": [
        {
          "output_type": "stream",
          "text": [
            "[2 2 2 2 1 2 1 1 2 2 2 1 1 2 2 2 2 2 1 1]\n",
            "[2 2 2 2 1 1 1 1 2 2 2 1 1 2 2 2 2 2 1 1]\n"
          ],
          "name": "stdout"
        },
        {
          "output_type": "execute_result",
          "data": {
            "text/plain": [
              "0.95"
            ]
          },
          "metadata": {
            "tags": []
          },
          "execution_count": 119
        }
      ]
    },
    {
      "cell_type": "code",
      "metadata": {
        "colab": {
          "base_uri": "https://localhost:8080/"
        },
        "id": "jumeniEQx2Pn",
        "outputId": "cd93617a-a6ef-4dd0-af2c-32962195ba54"
      },
      "source": [
        "model_tree = DecisionTreeClassifier()\n",
        "model_tree.fit(X_train, y_train)\n",
        "y_pred_tree = model_tree.predict(X_test)\n",
        "print(y_pred_tree)\n",
        "print(y_test)\n",
        "accuracy_score(y_test, y_pred_tree)"
      ],
      "execution_count": 120,
      "outputs": [
        {
          "output_type": "stream",
          "text": [
            "[2 2 2 2 1 2 2 1 2 2 2 1 2 2 2 2 2 2 1 1]\n",
            "[2 2 2 2 1 1 1 1 2 2 2 1 1 2 2 2 2 2 1 1]\n"
          ],
          "name": "stdout"
        },
        {
          "output_type": "execute_result",
          "data": {
            "text/plain": [
              "0.85"
            ]
          },
          "metadata": {
            "tags": []
          },
          "execution_count": 120
        }
      ]
    },
    {
      "cell_type": "markdown",
      "metadata": {
        "id": "8ZfJd-LezG2c"
      },
      "source": [
        "#**問題2　分類問題を解くコードの作成**"
      ]
    },
    {
      "cell_type": "markdown",
      "metadata": {
        "id": "nXCvHJpqzDvy"
      },
      "source": [
        "シンプルデータセット1作成コード"
      ]
    },
    {
      "cell_type": "code",
      "metadata": {
        "id": "8twazsOKyslG"
      },
      "source": [
        "np.random.seed(seed=0)\n",
        "n_samples = 500\n",
        "f0 = [-1, 2]\n",
        "f1 = [2, -1]\n",
        "cov = [[1.0,0.8], [0.8, 1.0]]\n",
        "f0 = np.random.multivariate_normal(f0, cov, int(n_samples/2))\n",
        "f1 = np.random.multivariate_normal(f1, cov, int(n_samples/2))\n",
        "X_simple = np.concatenate((f0, f1))\n",
        "y_simple = np.concatenate((np.ones((int(n_samples/2))), np.ones((int(n_samples/2))) *(-1))).astype(np.int)\n",
        "random_index = np.random.permutation(np.arange(n_samples))\n",
        "X_simple = X_simple[random_index]\n",
        "y_simple = y_simple[random_index]"
      ],
      "execution_count": 121,
      "outputs": []
    },
    {
      "cell_type": "code",
      "metadata": {
        "id": "Z1M8NbWTzr57"
      },
      "source": [
        "print(X_simple)\n",
        "print(y_simple)"
      ],
      "execution_count": null,
      "outputs": []
    },
    {
      "cell_type": "code",
      "metadata": {
        "id": "D1rzLHZtzuyS"
      },
      "source": [
        "X_train_simple, X_test_simple, y_train_simple, y_test_simple = scrath_train_test_split(X_simple, y_simple, train_size=0.8)"
      ],
      "execution_count": 123,
      "outputs": []
    },
    {
      "cell_type": "code",
      "metadata": {
        "id": "PmPGoQ5y0Jg9"
      },
      "source": [
        "print(X_train_simple)\n",
        "print(X_test_simple)\n",
        "print(y_train_simple)\n",
        "print(y_test_simple)\n",
        "print(X_train_simple.shape)\n",
        "print(X_test_simple.shape)\n",
        "print(y_train_simple.shape)\n",
        "print(y_test_simple.shape)"
      ],
      "execution_count": null,
      "outputs": []
    },
    {
      "cell_type": "code",
      "metadata": {
        "id": "v7HUlpbg26sh"
      },
      "source": [
        ""
      ],
      "execution_count": 124,
      "outputs": []
    },
    {
      "cell_type": "code",
      "metadata": {
        "colab": {
          "base_uri": "https://localhost:8080/"
        },
        "id": "jXc6_0Op0NC2",
        "outputId": "b1c2e91f-6bf9-4976-ba01-18597eada5fb"
      },
      "source": [
        "model_log.fit(X_train_simple, y_train_simple)\n",
        "y_pred_log_simple = model_log.predict(X_test_simple)\n",
        "accuracy_score(y_test_simple, y_pred_log_simple)\n"
      ],
      "execution_count": 125,
      "outputs": [
        {
          "output_type": "execute_result",
          "data": {
            "text/plain": [
              "1.0"
            ]
          },
          "metadata": {
            "tags": []
          },
          "execution_count": 125
        }
      ]
    },
    {
      "cell_type": "code",
      "metadata": {
        "colab": {
          "base_uri": "https://localhost:8080/"
        },
        "id": "S9j75zO017-W",
        "outputId": "58696513-ebb3-4afe-ea6a-67f7306ce1ed"
      },
      "source": [
        "\n",
        "model_svc.fit(X_train_simple, y_train_simple)\n",
        "y_pred_svc_simple = model_svc.predict(X_test_simple)\n",
        "accuracy_score(y_test_simple, y_pred_svc)\n",
        "\n"
      ],
      "execution_count": 132,
      "outputs": [
        {
          "output_type": "execute_result",
          "data": {
            "text/plain": [
              "1.0"
            ]
          },
          "metadata": {
            "tags": []
          },
          "execution_count": 132
        }
      ]
    },
    {
      "cell_type": "code",
      "metadata": {
        "colab": {
          "base_uri": "https://localhost:8080/"
        },
        "id": "RXopaPvY2MpL",
        "outputId": "2b97f6a0-ae26-48df-bd6b-39c633c3e314"
      },
      "source": [
        "\n",
        "model_tree.fit(X_train_simple, y_train_simple)\n",
        "y_pred_tree_simple = model_tree.predict(X_test_simple)\n",
        "accuracy_score(y_test_simple, y_pred_tree_simple)\n"
      ],
      "execution_count": 134,
      "outputs": [
        {
          "output_type": "execute_result",
          "data": {
            "text/plain": [
              "1.0"
            ]
          },
          "metadata": {
            "tags": []
          },
          "execution_count": 134
        }
      ]
    },
    {
      "cell_type": "markdown",
      "metadata": {
        "id": "UB5tcoFh3pIH"
      },
      "source": [
        "シンプルデータセット2作成コード\n"
      ]
    },
    {
      "cell_type": "code",
      "metadata": {
        "id": "S1Xc6gIS2O8d"
      },
      "source": [
        "X_simple2 = np.array([[-0.44699 , -2.8073  ],[-1.4621  , -2.4586  ],\n",
        "       [ 0.10645 ,  1.9242  ],[-3.5944  , -4.0112  ],\n",
        "       [-0.9888  ,  4.5718  ],[-3.1625  , -3.9606  ],\n",
        "       [ 0.56421 ,  0.72888 ],[-0.60216 ,  8.4636  ],\n",
        "       [-0.61251 , -0.75345 ],[-0.73535 , -2.2718  ],\n",
        "       [-0.80647 , -2.2135  ],[ 0.86291 ,  2.3946  ],\n",
        "       [-3.1108  ,  0.15394 ],[-2.9362  ,  2.5462  ],\n",
        "       [-0.57242 , -2.9915  ],[ 1.4771  ,  3.4896  ],\n",
        "       [ 0.58619 ,  0.37158 ],[ 0.6017  ,  4.3439  ],\n",
        "       [-2.1086  ,  8.3428  ],[-4.1013  , -4.353   ],\n",
        "       [-1.9948  , -1.3927  ],[ 0.35084 , -0.031994],\n",
        "       [ 0.96765 ,  7.8929  ],[-1.281   , 15.6824  ],\n",
        "       [ 0.96765 , 10.083   ],[ 1.3763  ,  1.3347  ],\n",
        "       [-2.234   , -2.5323  ],[-2.9452  , -1.8219  ],\n",
        "       [ 0.14654 , -0.28733 ],[ 0.5461  ,  5.8245  ],\n",
        "       [-0.65259 ,  9.3444  ],[ 0.59912 ,  5.3524  ],\n",
        "       [ 0.50214 , -0.31818 ],[-3.0603  , -3.6461  ],\n",
        "       [-6.6797  ,  0.67661 ],[-2.353   , -0.72261 ],\n",
        "       [ 1.1319  ,  2.4023  ],[-0.12243 ,  9.0162  ],\n",
        "       [-2.5677  , 13.1779  ],[ 0.057313,  5.4681  ]])\n",
        "y_simple2 = np.array([0, 0, 0, 0, 0, 0, 0, 0, 0, 0, 0, 0, 0, 0, 0, 0, 0, 0, 0, 0, 1, 1,\n",
        "       1, 1, 1, 1, 1, 1, 1, 1, 1, 1, 1, 1, 1, 1, 1, 1, 1, 1])"
      ],
      "execution_count": 129,
      "outputs": []
    },
    {
      "cell_type": "code",
      "metadata": {
        "id": "W--c4dlg3u5t"
      },
      "source": [
        "X_train_simple2, X_test_simple2, y_train_simple2, y_test_simple2 = scrath_train_test_split(X_simple2, y_simple2, train_size=0.8)"
      ],
      "execution_count": 139,
      "outputs": []
    },
    {
      "cell_type": "code",
      "metadata": {
        "colab": {
          "base_uri": "https://localhost:8080/"
        },
        "id": "C5oca86w390K",
        "outputId": "46cb820e-1493-45b3-82c1-25dd54331b17"
      },
      "source": [
        "model_log.fit(X_train_simple2, y_train_simple2)\n",
        "y_pred_log_simple2 = model_log.predict(X_test_simple2)\n",
        "accuracy_score(y_test_simple2, y_pred_log_simple2)\n"
      ],
      "execution_count": 140,
      "outputs": [
        {
          "output_type": "execute_result",
          "data": {
            "text/plain": [
              "0.625"
            ]
          },
          "metadata": {
            "tags": []
          },
          "execution_count": 140
        }
      ]
    },
    {
      "cell_type": "code",
      "metadata": {
        "colab": {
          "base_uri": "https://localhost:8080/"
        },
        "id": "6FFxpobN4J4I",
        "outputId": "877da8f8-a970-4023-c5b8-2129e6fffa0b"
      },
      "source": [
        "model_svc.fit(X_train_simple2, y_train_simple2)\n",
        "y_pred_svc_simple2 = model_svc.predict(X_test_simple2)\n",
        "accuracy_score(y_test_simple2, y_pred_svc_simple2)\n",
        "\n"
      ],
      "execution_count": 141,
      "outputs": [
        {
          "output_type": "execute_result",
          "data": {
            "text/plain": [
              "0.625"
            ]
          },
          "metadata": {
            "tags": []
          },
          "execution_count": 141
        }
      ]
    },
    {
      "cell_type": "code",
      "metadata": {
        "colab": {
          "base_uri": "https://localhost:8080/"
        },
        "id": "WM--ULFN4cyL",
        "outputId": "82465ca0-ec5a-4ad5-9937-0a7a691d6a63"
      },
      "source": [
        "model_tree.fit(X_train_simple2, y_train_simple2)\n",
        "y_pred_tree_simple2 = model_tree.predict(X_test_simple2)\n",
        "accuracy_score(y_test_simple2, y_pred_tree_simple2)"
      ],
      "execution_count": 142,
      "outputs": [
        {
          "output_type": "execute_result",
          "data": {
            "text/plain": [
              "0.625"
            ]
          },
          "metadata": {
            "tags": []
          },
          "execution_count": 142
        }
      ]
    },
    {
      "cell_type": "markdown",
      "metadata": {
        "id": "qjaoeFhr4_eD"
      },
      "source": [
        "#**問題3　回帰問題を解くコードの作成**"
      ]
    },
    {
      "cell_type": "code",
      "metadata": {
        "id": "kYfwfp7r4-3Y"
      },
      "source": [
        "from sklearn.linear_model import SGDClassifier\n",
        "import pandas as pd"
      ],
      "execution_count": 147,
      "outputs": []
    },
    {
      "cell_type": "code",
      "metadata": {
        "colab": {
          "base_uri": "https://localhost:8080/"
        },
        "id": "7ySu9vta4tTw",
        "outputId": "5ac8be07-667f-4764-a9ff-8cd340a3049d"
      },
      "source": [
        "from google.colab import drive\n",
        "drive.mount(\"/content/drive\")"
      ],
      "execution_count": 151,
      "outputs": [
        {
          "output_type": "stream",
          "text": [
            "Drive already mounted at /content/drive; to attempt to forcibly remount, call drive.mount(\"/content/drive\", force_remount=True).\n"
          ],
          "name": "stdout"
        }
      ]
    },
    {
      "cell_type": "code",
      "metadata": {
        "id": "iSPu6_rR6cKq"
      },
      "source": [
        "df = pd.read_csv(\"drive/My Drive/train_home.csv\")"
      ],
      "execution_count": 154,
      "outputs": []
    },
    {
      "cell_type": "code",
      "metadata": {
        "colab": {
          "base_uri": "https://localhost:8080/"
        },
        "id": "2REW8eg76_ne",
        "outputId": "0b1ba4e0-2500-495c-ace3-03fa5e2205a2"
      },
      "source": [
        "print(df)"
      ],
      "execution_count": 155,
      "outputs": [
        {
          "output_type": "stream",
          "text": [
            "        Id  MSSubClass MSZoning  ...  SaleType  SaleCondition SalePrice\n",
            "0        1          60       RL  ...        WD         Normal    208500\n",
            "1        2          20       RL  ...        WD         Normal    181500\n",
            "2        3          60       RL  ...        WD         Normal    223500\n",
            "3        4          70       RL  ...        WD        Abnorml    140000\n",
            "4        5          60       RL  ...        WD         Normal    250000\n",
            "...    ...         ...      ...  ...       ...            ...       ...\n",
            "1455  1456          60       RL  ...        WD         Normal    175000\n",
            "1456  1457          20       RL  ...        WD         Normal    210000\n",
            "1457  1458          70       RL  ...        WD         Normal    266500\n",
            "1458  1459          20       RL  ...        WD         Normal    142125\n",
            "1459  1460          20       RL  ...        WD         Normal    147500\n",
            "\n",
            "[1460 rows x 81 columns]\n"
          ],
          "name": "stdout"
        }
      ]
    },
    {
      "cell_type": "code",
      "metadata": {
        "id": "cwNBVCzt7AqG"
      },
      "source": [
        "df_X = df.loc[:,[\"GrLivArea\",\"YearBuilt\"]]\n",
        "df_y = df.loc[:,[\"SalePrice\"]]"
      ],
      "execution_count": 156,
      "outputs": []
    },
    {
      "cell_type": "code",
      "metadata": {
        "colab": {
          "base_uri": "https://localhost:8080/"
        },
        "id": "E_74KDOQ8EqT",
        "outputId": "9521bcd5-60c6-4d12-bab6-97f62c093d9a"
      },
      "source": [
        "print(df_X)\n",
        "print(df_y)"
      ],
      "execution_count": 157,
      "outputs": [
        {
          "output_type": "stream",
          "text": [
            "      GrLivArea  YearBuilt\n",
            "0          1710       2003\n",
            "1          1262       1976\n",
            "2          1786       2001\n",
            "3          1717       1915\n",
            "4          2198       2000\n",
            "...         ...        ...\n",
            "1455       1647       1999\n",
            "1456       2073       1978\n",
            "1457       2340       1941\n",
            "1458       1078       1950\n",
            "1459       1256       1965\n",
            "\n",
            "[1460 rows x 2 columns]\n",
            "      SalePrice\n",
            "0        208500\n",
            "1        181500\n",
            "2        223500\n",
            "3        140000\n",
            "4        250000\n",
            "...         ...\n",
            "1455     175000\n",
            "1456     210000\n",
            "1457     266500\n",
            "1458     142125\n",
            "1459     147500\n",
            "\n",
            "[1460 rows x 1 columns]\n"
          ],
          "name": "stdout"
        }
      ]
    },
    {
      "cell_type": "code",
      "metadata": {
        "id": "FAt4NL128Gwe"
      },
      "source": [
        "X_home = df_X.values\n",
        "y_home = df_y.values"
      ],
      "execution_count": 159,
      "outputs": []
    },
    {
      "cell_type": "code",
      "metadata": {
        "id": "qXIfphts_93s"
      },
      "source": [
        "'''\n",
        "from sklearn.preprocessing import StandardScaler\n",
        "sscaler = StandardScaler()\n",
        "sscaler.fit(X_home)\n",
        "X_std = sscaler.transform(X_home)\n",
        "\n",
        "sscaler.fit(y_home)\n",
        "y_std = sscaler.transform(y_home)\n",
        "'''"
      ],
      "execution_count": 184,
      "outputs": []
    },
    {
      "cell_type": "code",
      "metadata": {
        "id": "S5-faJXd8g77"
      },
      "source": [
        "X_train_home, X_test_home, y_train_home, y_test_home = scrath_train_test_split(X_home, y_home, train_size=0.8)"
      ],
      "execution_count": 192,
      "outputs": []
    },
    {
      "cell_type": "code",
      "metadata": {
        "colab": {
          "base_uri": "https://localhost:8080/"
        },
        "id": "fyL_E5pe8zwS",
        "outputId": "de55547e-53c3-484b-8ed3-94635e5c24df"
      },
      "source": [
        "lm = SGDClassifier()\n",
        "model_lm = lm.fit(X_train_home, y_train_home)\n",
        "y_pred_home = model_lm.predict(X_test_home)\n",
        "print(y_test_home)\n",
        "print(y_pred_home)"
      ],
      "execution_count": 193,
      "outputs": [
        {
          "output_type": "stream",
          "text": [
            "[129000 625000 149000 144000 118858  79000 265979 112000 184000 137000\n",
            " 135000 175000 170000 196500  97000 189000 130500 135900 115000 112500\n",
            " 238000 213000 127500 206000 164000 119000 190000 174500 144000 150750\n",
            " 187500 185000 113000 222500 154000 151000 354000 162000 131500 423000\n",
            " 144000 232600  96500 150000 175900 294000 146000 140000 142000 192000\n",
            " 193500 171000 277500 134000 116000 157000 112000 160000 185000 176485\n",
            " 140200 113000  82500 264132 220000 119000  83000 109500 367294 170000\n",
            " 117000 360000 130000 395000 181000 149500 104900 223500 142500 302000\n",
            " 178900 160000 115000 129000 190000 157900 158000 290000 328000  85500\n",
            " 135000 225000 187100 129900 210000 403000 475000 141000 196500 176432\n",
            " 164500 125500 118000 200141 145000 190000 105900 259500 159500 268000\n",
            " 127000 132500 266000 137500 145000  72500 142953 153000 194201 115000\n",
            " 200500 185000 186500 173000 167500 325000 361919 215000 271900 235000\n",
            " 115000 205950 205000 112000 204000 242000 183500 190000 115000 156000\n",
            " 135000 260000 176500 138000  79500 151500 290000 303477 110000 170000\n",
            " 127000 240000 215200 141000 115000 215000 205000 345000 179200 113000\n",
            " 192140 285000 135750  87000 120500 162000 283463 240000 165600 148000\n",
            " 235000 101000 230000 222000  52000 195000 271000 164990 175500 110000\n",
            " 130000 465000 125000 165000 140000 123500 147000 176000 284000 255000\n",
            " 100000 155000 136500 164700 113000 144152 275500 139000 120000 430000\n",
            " 137000 140000 163000 170000 275000 280000 177000 236500 229456 280000\n",
            "  82000  55993 262000 105000 143900 115000  60000 106250 192000 194700\n",
            " 118000 245000 186000 262500 131500 145000 138500 325000 253293 166000\n",
            "  86000 172785 125500 140000 226000 154000 178000 144500 187500 139400\n",
            " 121000 265900 168000 132250 210000 197500 135000 185500 165000 137450\n",
            " 173000 260000 341000 275000 154500  89500 138000 160000 107400 143500\n",
            " 264561 179000 143000 135500 135000 212000 745000 107500 135000 208500\n",
            " 148000 127000 146000 172500 310000 228950 187500 239000 232000 145000\n",
            " 154000 176000 265000 152000 155900 116000 118400 152000 185000  83500\n",
            " 214000 151000]\n",
            "[174000 184750 165150 174000 165150 165150 315000 165150 165150 165150\n",
            " 165150 165150 165150 165150 174000 315000 174000 165150 174000 174000\n",
            " 165150 165150 174000 174000 174000 174000 165150 165150 165150 165150\n",
            " 165150 165150 165150 165150 174000 174000 165150 165150 174000 165150\n",
            " 174000 165150 174000 174000 165150 165150 165150 165150 174000 165150\n",
            " 165150 165150 165150 174000 174000 165150 165150 165150 174000 174000\n",
            " 165150 174000 174000 165150 174000 174000 174000 174000 165150 165150\n",
            " 165150 165150 165150 165150 165150 165150 165150 165150 174000 315000\n",
            " 165150 165150 174000 165150 165150 165150 174000 165150 165150 174000\n",
            " 165150 165150 165150 165150 165150 315000 184750 165150 165150 174000\n",
            " 165150 165150 174000 174000 165150 315000 174000 165150 315000 165150\n",
            " 165150 174000 165150 165150 174000 174000 165150 165150 165150 174000\n",
            " 165150 174000 165150 165150 165150 165150 165150 165150 165150 174000\n",
            " 165150 165150 165150 174000 165150 184750 165150 165150 174000 174000\n",
            " 174000 165150 165150 165150 174000 174000 165150 165150 174000 165150\n",
            " 174000 165150 165150 174000 165150 165150 165150 165150 165150 174000\n",
            " 165150 165150 174000 174000 174000 174000 165150 165150 165150 174000\n",
            " 184750 174000 165150 165150 174000 165150 165150 174000 165150 174000\n",
            " 165150 165150 174000 165150 174000 174000 174000 174000 165150 165150\n",
            " 174000 174000 174000 174000 165150 174000 165150 174000 174000 184750\n",
            " 174000 174000 165150 165150 165150 165150 165150 165150 174000 165150\n",
            " 174000 174000 165150 174000 165150 174000 174000 165150 174000 165150\n",
            " 174000 165150 174000 165150 165150 165150 174000 315000 165150 165150\n",
            " 174000 165150 165150 174000 165150 174000 165150 165150 165150 174000\n",
            " 174000 165150 165150 174000 165150 165150 174000 165150 174000 165150\n",
            " 165150 165150 165150 165150 174000 165150 174000 184750 165150 174000\n",
            " 165150 174000 174000 174000 174000 165150 184750 165150 165150 165150\n",
            " 174000 165150 174000 174000 165150 165150 174000 315000 165150 174000\n",
            " 165150 174000 165150 174000 174000 174000 174000 174000 165150 174000\n",
            " 165150 165150]\n"
          ],
          "name": "stdout"
        }
      ]
    },
    {
      "cell_type": "markdown",
      "metadata": {
        "id": "qQNHVgvJ-KJ7"
      },
      "source": [
        ""
      ]
    },
    {
      "cell_type": "code",
      "metadata": {
        "id": "ll4neZ1p9Smw"
      },
      "source": [
        "from sklearn.metrics import mean_squared_error"
      ],
      "execution_count": 187,
      "outputs": []
    },
    {
      "cell_type": "code",
      "metadata": {
        "colab": {
          "base_uri": "https://localhost:8080/"
        },
        "id": "BwSjIAQJ9nNb",
        "outputId": "c3bb1035-a649-416a-e4e2-7e379b71f326"
      },
      "source": [
        "mse_lm = mean_squared_error(y_test_home, y_pred_home)\n",
        "print(mse_lm)"
      ],
      "execution_count": 188,
      "outputs": [
        {
          "output_type": "stream",
          "text": [
            "0.9006849315068494\n"
          ],
          "name": "stdout"
        }
      ]
    },
    {
      "cell_type": "code",
      "metadata": {
        "colab": {
          "base_uri": "https://localhost:8080/"
        },
        "id": "ghQZ0J_F-6RO",
        "outputId": "bca8deaa-f542-4e62-d873-56a27e505068"
      },
      "source": [
        "X_test_home.shape\n",
        "y_pred_home.shape"
      ],
      "execution_count": 189,
      "outputs": [
        {
          "output_type": "execute_result",
          "data": {
            "text/plain": [
              "(292,)"
            ]
          },
          "metadata": {
            "tags": []
          },
          "execution_count": 189
        }
      ]
    },
    {
      "cell_type": "code",
      "metadata": {
        "colab": {
          "base_uri": "https://localhost:8080/",
          "height": 282
        },
        "id": "W1-EHAGZ9yIA",
        "outputId": "624a12c8-4a99-442a-c354-6adac0b3f622"
      },
      "source": [
        "import matplotlib.pyplot as plt\n",
        "\n",
        "plt.scatter(X_test_home[:,0], y_pred_home, label=\"Predict_data\")\n",
        "plt.scatter(X_test_home[:,0], y_test_home, label=\"True_data\")\n",
        "plt.legend()"
      ],
      "execution_count": 194,
      "outputs": [
        {
          "output_type": "execute_result",
          "data": {
            "text/plain": [
              "<matplotlib.legend.Legend at 0x7fbf5fcd43c8>"
            ]
          },
          "metadata": {
            "tags": []
          },
          "execution_count": 194
        },
        {
          "output_type": "display_data",
          "data": {
            "image/png": "[encoded data removed]",
            "text/plain": [
              "<Figure size 432x288 with 1 Axes>"
            ]
          },
          "metadata": {
            "tags": [],
            "needs_background": "light"
          }
        }
      ]
    },
    {
      "cell_type": "code",
      "metadata": {
        "colab": {
          "base_uri": "https://localhost:8080/",
          "height": 282
        },
        "id": "WrbyQAme_PSW",
        "outputId": "8007f7a6-975d-4929-d1a6-ed5210023265"
      },
      "source": [
        "import matplotlib.pyplot as plt\n",
        "\n",
        "plt.scatter(X_test_home[:,1], y_pred_home, label=\"Predict_data\")\n",
        "plt.scatter(X_test_home[:,1], y_test_home, label=\"True_data\")\n",
        "plt.legend()"
      ],
      "execution_count": 191,
      "outputs": [
        {
          "output_type": "execute_result",
          "data": {
            "text/plain": [
              "<matplotlib.legend.Legend at 0x7fbf5fd68668>"
            ]
          },
          "metadata": {
            "tags": []
          },
          "execution_count": 191
        },
        {
          "output_type": "display_data",
          "data": {
            "image/png": "[encoded data removed]",
            "text/plain": [
              "<Figure size 432x288 with 1 Axes>"
            ]
          },
          "metadata": {
            "tags": [],
            "needs_background": "light"
          }
        }
      ]
    },
    {
      "cell_type": "code",
      "metadata": {
        "id": "YEVcw5PN_jUi"
      },
      "source": [
        ""
      ],
      "execution_count": null,
      "outputs": []
    }
  ]
}