{
  "nbformat": 4,
  "nbformat_minor": 0,
  "metadata": {
    "colab": {
      "name": "week1_class3.ipynb",
      "provenance": [],
      "collapsed_sections": []
    },
    "kernelspec": {
      "name": "python3",
      "display_name": "Python 3"
    }
  },
  "cells": [
    {
      "cell_type": "markdown",
      "metadata": {
        "id": "04VcMkkmxeKl"
      },
      "source": [
        "漫画ドラえもんには「バイバイン」という道具が登場する、2のn乗に関する有名なエピソード[1]があります。\n",
        "\n",
        "\n",
        "[1] 藤子・Ｆ・不二雄(1979)『ドラえもん（１７）』小学館.\n",
        "\n",
        "\n",
        "「バイバイン」は薬品で、これを振掛けるとその物体は5分ごとに倍に増えるという働きがあります。作中では栗まんじゅうを増やしますが、食べきれなくなったためロケットを使い宇宙に捨てました。\n",
        "\n",
        "\n",
        "ここで度々話題になるのが、栗まんじゅうはその後宇宙でどのように増えていくのかについてです。様々な議論がされていますが、今回は単純に栗まんじゅうの体積がどう増えるかを計算してみましょう。"
      ]
    },
    {
      "cell_type": "markdown",
      "metadata": {
        "id": "vQZywmgKxuuM"
      },
      "source": [
        "___"
      ]
    },
    {
      "cell_type": "markdown",
      "metadata": {
        "id": "DL6ZV-Q3ximJ"
      },
      "source": [
        "**【問題】栗まんじゅうが太陽系を覆う日**<br>\n",
        "1個の栗まんじゅうにバイバインを振りかけた場合、太陽系が栗まんじゅうで覆われるのは何分後でしょうか。これを計算するプログラムを作成してください。<br><br>\n",
        "\n",
        "\n",
        "栗まんじゅうや太陽系の体積を調査した上で仮定して計算してください。栗まんじゅうの隙間や重力などは考えず、問題を単純化して構いません。<br><br>\n",
        "\n",
        "\n",
        "ボールにバイバインを振りかけた時、東京ドームが一杯になる時間など他の状況にも適用できるような汎用的なプログラムを作成してください。また、グラフを表示するなど分かりやすいノートブックを作成してください。"
      ]
    },
    {
      "cell_type": "code",
      "metadata": {
        "colab": {
          "base_uri": "https://localhost:8080/"
        },
        "id": "uh3YcuZcxhRG",
        "outputId": "72330ad5-e6e3-4a55-cae0-456f54251ebb"
      },
      "source": [
        "import math\n",
        "import matplotlib.pyplot as plt\n",
        "\n",
        "#栗饅頭の体積を求める\n",
        "target_volume = 4/3 * math.pi * 1.8**3\n",
        "#太陽系の体積\n",
        "#直径1m の球体の体積は0.155m^3\n",
        "#太陽系の直径は約30兆キロ\n",
        "solar_colume = 30000000000000*1000*0.155**3\n",
        "\n",
        "increased_target_volume = [target_volume]\n",
        "n_increased = 0\n",
        "while True:\n",
        "  n_increased += 1\n",
        "  increased_target_volume.append(increased_target_volume[-1]*2)\n",
        "  if increased_target_volume[-1]>solar_colume:\n",
        "    break\n",
        "fill_up_time = n_increased * 5\n",
        "print(\"{}分後に太陽系惑星の体積を超える\".format(fill_up_time))\n"
      ],
      "execution_count": 1,
      "outputs": [
        {
          "output_type": "stream",
          "text": [
            "215分後に太陽系惑星の体積を超える\n"
          ],
          "name": "stdout"
        }
      ]
    },
    {
      "cell_type": "markdown",
      "metadata": {
        "id": "atdJAiDQ4S4-"
      },
      "source": [
        "___\n",
        "**関数化**"
      ]
    },
    {
      "cell_type": "code",
      "metadata": {
        "colab": {
          "base_uri": "https://localhost:8080/"
        },
        "id": "5iNJNqwg4UQm",
        "outputId": "8756ce57-ef7b-436f-b1af-424f0352db04"
      },
      "source": [
        "\n",
        "\n",
        "def baibain_generator(target_vol, object_vol):\n",
        "  temp_list = [target_volume]\n",
        "  num_increased = 0\n",
        "  while target_vol < object_vol:\n",
        "    num_increased = num_increased + 1\n",
        "    temp_list.append(temp_list[-1]*2)\n",
        "    if temp_list[-1]>object_vol:\n",
        "      break\n",
        "  return num_increased * 5\n",
        "  \n",
        "#関数の確認\n",
        "baibain_generator(target_volume, solar_colume)"
      ],
      "execution_count": 3,
      "outputs": [
        {
          "output_type": "execute_result",
          "data": {
            "text/plain": [
              "215"
            ]
          },
          "metadata": {
            "tags": []
          },
          "execution_count": 3
        }
      ]
    },
    {
      "cell_type": "markdown",
      "metadata": {
        "id": "8ZVP5id2pyoP"
      },
      "source": [
        "___\n",
        "**野球ボールにバイバインを振りかけた時、東京ドームがいっぱいになる時間**"
      ]
    },
    {
      "cell_type": "code",
      "metadata": {
        "colab": {
          "base_uri": "https://localhost:8080/"
        },
        "id": "B24_YGHS57hu",
        "outputId": "628c80a4-adf6-48f3-8426-d338bc57eb09"
      },
      "source": [
        "#ボールの体積\n",
        "ball_volume = 4*math.pi*2*3.65**3/3  \n",
        "#東京ドームの体積\n",
        "dome_volume = 1240000*100\n",
        "\n",
        "ball_dome_ans = baibain_generator(ball_volume, dome_volume)\n",
        "print(\"{}分後にいっぱいになる\".format(ball_dome_ans))"
      ],
      "execution_count": 4,
      "outputs": [
        {
          "output_type": "stream",
          "text": [
            "115分後にいっぱいになる\n"
          ],
          "name": "stdout"
        }
      ]
    },
    {
      "cell_type": "code",
      "metadata": {
        "id": "ewipgApEsGqP"
      },
      "source": [
        ""
      ],
      "execution_count": null,
      "outputs": []
    }
  ]
}