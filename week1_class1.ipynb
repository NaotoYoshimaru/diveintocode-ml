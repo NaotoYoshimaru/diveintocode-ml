{
  "nbformat": 4,
  "nbformat_minor": 0,
  "metadata": {
    "colab": {
      "name": "week1_class1.ipynb",
      "provenance": [],
      "collapsed_sections": []
    },
    "kernelspec": {
      "name": "python3",
      "display_name": "Python 3"
    }
  },
  "cells": [
    {
      "cell_type": "markdown",
      "metadata": {
        "id": "GDxDmM7WSz4R"
      },
      "source": [
        "#**week1 授業課題1　曽呂利新左衛門問題**"
      ]
    },
    {
      "cell_type": "markdown",
      "metadata": {
        "id": "_E7VLIy2TUoP"
      },
      "source": [
        "テキストの目的\n",
        "基礎的なプログラミング力を確認する\n",
        "見やすいコードを書けるようにする\n",
        "\n",
        "どのように学ぶか\n",
        "Python入門課題の発展です。関数作成やコメントの入れ方などを工夫し、見やすいコードを作っていってください。"
      ]
    },
    {
      "cell_type": "markdown",
      "metadata": {
        "id": "HXD_kTvETsOr"
      },
      "source": [
        ">秀吉から褒美を下される際、何を希望するか尋ねられた新左衛門は、今日は米1粒、翌日には倍の2粒、その翌日には更に倍の4粒と、日ごとに倍の量の米を100日間もらう事を希望した。米粒なら大した事はないと思った秀吉は簡単に承諾したが、日ごとに倍ずつ増やして行くと100日後には膨大な量になる事に途中で気づき、他の褒美に変えてもらった。"
      ]
    },
    {
      "cell_type": "markdown",
      "metadata": {
        "id": "bZyK_9lTT5RC"
      },
      "source": [
        "**【問題1】100日目の米粒の数**<br>\n",
        "100日目には合計で米粒をいくつもらっているのかを計算するコードを作成し、答えを出力してください。また、1日目から100日目までの「その日にもらう米の数」と「その日までに累計で貰う米の数」の推移を折れ線グラフで表現してください。（縦軸が米の数、横軸が日数）"
      ]
    },
    {
      "cell_type": "code",
      "metadata": {
        "colab": {
          "base_uri": "https://localhost:8080/",
          "height": 219
        },
        "id": "mrYAFgI1SyG5",
        "outputId": "801d5243-2f9f-4cd9-b3c1-2b58b9dfe9b5"
      },
      "source": [
        "day = 100\n",
        "get_rice= 1\n",
        "dayly_rice = []\n",
        "total_rice = []\n",
        "\n",
        "for i in range(day-1):\n",
        "  get_rice = get_rice * 2\n",
        "  dayly_rice.append(get_rice)\n",
        "  dayly_total_rice = sum(dayly_rice)\n",
        "  total_rice.append(dayly_total_rice)\n",
        "\n",
        "\n",
        "print(\"{}日目にもらうお米は{}粒\".format(days,get_rice))\n",
        "print(\"{}日目までにもらう累計米数は{}粒\".format(days,dayly_total_rice))"
      ],
      "execution_count": 1,
      "outputs": [
        {
          "output_type": "error",
          "ename": "NameError",
          "evalue": "ignored",
          "traceback": [
            "\u001b[0;31m---------------------------------------------------------------------------\u001b[0m",
            "\u001b[0;31mNameError\u001b[0m                                 Traceback (most recent call last)",
            "\u001b[0;32m<ipython-input-1-6052ecd7a66e>\u001b[0m in \u001b[0;36m<module>\u001b[0;34m()\u001b[0m\n\u001b[1;32m     11\u001b[0m \u001b[0;34m\u001b[0m\u001b[0m\n\u001b[1;32m     12\u001b[0m \u001b[0;34m\u001b[0m\u001b[0m\n\u001b[0;32m---> 13\u001b[0;31m \u001b[0mprint\u001b[0m\u001b[0;34m(\u001b[0m\u001b[0;34m\"{}日目にもらうお米は{}粒\"\u001b[0m\u001b[0;34m.\u001b[0m\u001b[0mformat\u001b[0m\u001b[0;34m(\u001b[0m\u001b[0mdays\u001b[0m\u001b[0;34m,\u001b[0m\u001b[0mget_rice\u001b[0m\u001b[0;34m)\u001b[0m\u001b[0;34m)\u001b[0m\u001b[0;34m\u001b[0m\u001b[0;34m\u001b[0m\u001b[0m\n\u001b[0m\u001b[1;32m     14\u001b[0m \u001b[0mprint\u001b[0m\u001b[0;34m(\u001b[0m\u001b[0;34m\"{}日目までにもらう累計米数は{}粒\"\u001b[0m\u001b[0;34m.\u001b[0m\u001b[0mformat\u001b[0m\u001b[0;34m(\u001b[0m\u001b[0mdays\u001b[0m\u001b[0;34m,\u001b[0m\u001b[0mdayly_total_rice\u001b[0m\u001b[0;34m)\u001b[0m\u001b[0;34m)\u001b[0m\u001b[0;34m\u001b[0m\u001b[0;34m\u001b[0m\u001b[0m\n",
            "\u001b[0;31mNameError\u001b[0m: name 'days' is not defined"
          ]
        }
      ]
    },
    {
      "cell_type": "code",
      "metadata": {
        "colab": {
          "base_uri": "https://localhost:8080/",
          "height": 295
        },
        "id": "YIR6iS9QTHmR",
        "outputId": "371a73a5-20f1-4ee2-c008-dfa422b81d12"
      },
      "source": [
        "import matplotlib.pyplot as plt\n",
        "%matplotlib inline\n",
        "plt.title(\"rice_sororishinzaemon\")\n",
        "plt.xlabel(\"days\")\n",
        "plt.ylabel(\"amount of rice\")\n",
        "plt.plot(dayly_rice, label=\"one day\")\n",
        "plt.plot(total_rice, label=\"total\")\n",
        "plt.legend()\n",
        "plt.show()"
      ],
      "execution_count": 2,
      "outputs": [
        {
          "output_type": "display_data",
          "data": {
            "image/png": "[encoded data removed]",
            "text/plain": [
              "<Figure size 432x288 with 1 Axes>"
            ]
          },
          "metadata": {
            "tags": [],
            "needs_background": "light"
          }
        }
      ]
    },
    {
      "cell_type": "markdown",
      "metadata": {
        "id": "ipsLhfcQaK7q"
      },
      "source": [
        "**【問題2】100日目以外の米粒の数**<br>\n",
        "この逸話は30日だったり81日だったりと日数が曖昧です。どの話にも対応できるように日数を引数とした 関数 を作成しましょう。関数を作成した上で、コースを受講する日数の間でいくつ米粒をもらえるかを答えてください。前の問題同様に折れ線グラフも出力してください。\n",
        "\n",
        "\n",
        "以下の雛形には関数としての枠組みだけではなく、引数や返り値についてのコメントも記載してあります。参考にして、自分なりにも分かりやすくコメントを書き換えてください。"
      ]
    },
    {
      "cell_type": "code",
      "metadata": {
        "colab": {
          "base_uri": "https://localhost:8080/",
          "height": 329
        },
        "id": "8-We1Q2oaOTv",
        "outputId": "bd17ea94-4eee-4eb6-8f7c-2903f6d7ea37"
      },
      "source": [
        "def compute_sorori_shinzaemon(day=100, n_first_day_rices=1):\n",
        "    \"\"\"\n",
        "    曽呂利新左衛門の米の逸話を検証する関数。日にちごとの米の粒の数を計算する。\n",
        "\n",
        "    Parameteres\n",
        "    --------------\n",
        "    day: int\n",
        "        米を貰う日数 (default : 100)\n",
        "    n_first_day_rices: int\n",
        "        1日目に貰う米の数(default : 1)\n",
        "\n",
        "    Returns\n",
        "    --------------\n",
        "    list_n_grains : list\n",
        "        ある日に貰う米の数のリスト（リストの長さはdayに等しくなる）\n",
        "    list_total_grains : list\n",
        "        ある日までに累計で貰う米の数のリスト（リストの長さはdayに等しくなる）\n",
        "    \"\"\"\n",
        "\n",
        "    list_n_grains  = [n_first_day_rices]\n",
        "    list_total_grains = [list_n_grains[0]] \n",
        "    for i in range(day-1):\n",
        "        list_n_grains.append(list_n_grains[-1]*2)\n",
        "        list_total_grains.append(list_total_grains[-1] + list_n_grains[-1])\n",
        "\n",
        "    return list_n_grains, list_total_grains\n",
        "\n",
        "day = 100 # まずは問題1と同じになるか確認\n",
        "\n",
        "list_n_grains, list_total_grains = compute_sorori_shinzaemon(day=day)\n",
        "\n",
        "print(\"{}日後にもらう米の数： {}粒\".format(day, list_n_grains[-1]))\n",
        "print(\"{}日後に合計でもらっている米の数： {}粒\".format(day, list_total_grains[-1]))\n",
        "\n",
        "plt.title(\"Sorori Shinzaemon's rices\")\n",
        "plt.xlabel(\"days\")\n",
        "plt.ylabel(\"number of rice received\")\n",
        "plt.plot(range(1, day + 1), list_n_grains, label=\"one day\") \n",
        "plt.plot(range(1, day + 1), list_total_grains, label=\"total\") \n",
        "plt.legend() \n",
        "plt.show()"
      ],
      "execution_count": 3,
      "outputs": [
        {
          "output_type": "stream",
          "text": [
            "100日後にもらう米の数： 633825300114114700748351602688粒\n",
            "100日後に合計でもらっている米の数： 1267650600228229401496703205375粒\n"
          ],
          "name": "stdout"
        },
        {
          "output_type": "display_data",
          "data": {
            "image/png": "[encoded data removed]",
            "text/plain": [
              "<Figure size 432x288 with 1 Axes>"
            ]
          },
          "metadata": {
            "tags": [],
            "needs_background": "light"
          }
        }
      ]
    },
    {
      "cell_type": "code",
      "metadata": {
        "colab": {
          "base_uri": "https://localhost:8080/",
          "height": 329
        },
        "id": "wvmwhok-fCk8",
        "outputId": "bacc3d20-f6cc-404f-86a2-d6d6f2b0fb9f"
      },
      "source": [
        "day = 120 # 受講する日数は厳密でなくて良い\n",
        "\n",
        "list_n_grains, list_total_grains = compute_sorori_shinzaemon(day=day)\n",
        "\n",
        "print(\"{}日後にもらう米の数： {}粒\".format(day, list_n_grains[-1]))\n",
        "print(\"{}日後に合計でもらっている米の数： {}粒\".format(day, list_total_grains[-1]))\n",
        "\n",
        "plt.title(\"sorori shinzaemon's rices\")\n",
        "plt.xlabel(\"days\")\n",
        "plt.ylabel(\"number of rice received\")\n",
        "plt.plot(range(1, day + 1), list_n_grains, label=\"one day\") \n",
        "plt.plot(range(1, day + 1), list_total_grains, label=\"total\") \n",
        "plt.legend()\n",
        "plt.show()"
      ],
      "execution_count": 4,
      "outputs": [
        {
          "output_type": "stream",
          "text": [
            "120日後にもらう米の数： 664613997892457936451903530140172288粒\n",
            "120日後に合計でもらっている米の数： 1329227995784915872903807060280344575粒\n"
          ],
          "name": "stdout"
        },
        {
          "output_type": "display_data",
          "data": {
            "image/png": "[encoded data removed]",
            "text/plain": [
              "<Figure size 432x288 with 1 Axes>"
            ]
          },
          "metadata": {
            "tags": [],
            "needs_background": "light"
          }
        }
      ]
    },
    {
      "cell_type": "markdown",
      "metadata": {
        "id": "N7aVnFpybYOH"
      },
      "source": [
        "**【問題3】何人が何日生活できる米か**<br>\n",
        "この米があれば何人が何日生活できるか計算する関数を作成してください。コースを受講する期間に貰える米粒で、このクラスにいる人数であれば、何日間生活できるかを出力してみましょう。\n",
        "\n",
        "関数の最低限の入力は 米粒の数(int) と 人数(int) 、出力は 生活できる日数(int) です。関数名やコメントなどは分かりやすく考えて作成してください。\n",
        "\n",
        "ここでは1日に必要な米粒の数は提示しません。自分なりに調べて、計算式に落とし込んでください。どう調べ、何を根拠にしたかもコメントを残しておいてください。\n",
        "\n",
        "（解説）\n",
        "\n",
        "米の数を計算する関数は問題2で作成しているので、この結果を引数とする新たな関数を作成します。\n",
        "\n",
        "必要な米粒の数や、1日のカロリーは根拠がしっかりとしていればどのような値でもOKです。\n"
      ]
    },
    {
      "cell_type": "code",
      "metadata": {
        "colab": {
          "base_uri": "https://localhost:8080/"
        },
        "id": "DiZnV1F3pW2C",
        "outputId": "46b9d02a-4b8a-4650-d4b8-0f3564b80c42"
      },
      "source": [
        "calories_of_rice = 168*1000/((100/2.3)/0.02)\n",
        "print(\"1粒あたり{}カロリー\".format(calories_of_rice))"
      ],
      "execution_count": 5,
      "outputs": [
        {
          "output_type": "stream",
          "text": [
            "1粒あたり77.28カロリー\n"
          ],
          "name": "stdout"
        }
      ]
    },
    {
      "cell_type": "code",
      "metadata": {
        "colab": {
          "base_uri": "https://localhost:8080/"
        },
        "id": "Y7wBvG3_qJUG",
        "outputId": "21e3a6e2-59a8-4cdd-ba36-83d862d994eb"
      },
      "source": [
        "def sorori_shinzaemon(n_grains, n_people, calories_of_rice=77.28, calories_needed_per_day=2200*1000):\n",
        "    total_calories = n_grains*calories_of_rice\n",
        "    total_calories_needed_per_day = n_people*calories_needed_per_day\n",
        "    \n",
        "    days = total_calories/total_calories_needed_per_day\n",
        "\n",
        "    return days\n",
        "\n",
        "day = 120\n",
        "n_people = 12\n",
        "\n",
        "_, list_total_grains = compute_sorori_shinzaemon(day=day) # 問題2の関数をそのまま使う。使わない返り値は_と置いておく。\n",
        "\n",
        "days_to_live = sorori_shinzaemon(list_total_grains[-1], n_people)\n",
        "\n",
        "print(\"{}人が{}日暮らせます。\".format(n_people, days_to_live))\n",
        "print(\"この時の米粒の数：{}\".format(list_total_grains[-1]))"
      ],
      "execution_count": 7,
      "outputs": [
        {
          "output_type": "stream",
          "text": [
            "12人が3.891012860388572e+30日暮らせます。\n",
            "この時の米粒の数：1329227995784915872903807060280344575\n"
          ],
          "name": "stdout"
        }
      ]
    },
    {
      "cell_type": "code",
      "metadata": {
        "id": "tQ8RnOf5qosJ"
      },
      "source": [
        ""
      ],
      "execution_count": null,
      "outputs": []
    }
  ]
}