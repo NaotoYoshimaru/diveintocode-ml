{
  "nbformat": 4,
  "nbformat_minor": 0,
  "metadata": {
    "colab": {
      "name": "week4_before_class3.ipynb",
      "provenance": [],
      "collapsed_sections": []
    },
    "kernelspec": {
      "name": "python3",
      "display_name": "Python 3"
    }
  },
  "cells": [
    {
      "cell_type": "code",
      "metadata": {
        "colab": {
          "base_uri": "https://localhost:8080/"
        },
        "id": "X9NxiGF46BsV",
        "outputId": "41f08d9d-f11f-4bf8-9aa6-8347e42d53f5"
      },
      "source": [
        "import numpy as np\n",
        "from sklearn.preprocessing import StandardScaler\n",
        "from sklearn.datasets import load_iris\n",
        "data = load_iris()\n",
        "X = data.data[:10]\n",
        "scaler = StandardScaler()\n",
        "scaler.fit(X)\n",
        "scaler.mean_\n",
        "scaler.var_\n",
        "X_std = scaler.transform(X)\n",
        "X_std"
      ],
      "execution_count": 23,
      "outputs": [
        {
          "output_type": "execute_result",
          "data": {
            "text/plain": [
              "array([[ 0.86828953,  0.65207831, -0.48795004, -0.26726124],\n",
              "       [ 0.14471492, -1.06391725, -0.48795004, -0.26726124],\n",
              "       [-0.57885968, -0.37751902, -1.46385011, -0.26726124],\n",
              "       [-0.94064699, -0.72071813,  0.48795004, -0.26726124],\n",
              "       [ 0.50650222,  0.99527742, -0.48795004, -0.26726124],\n",
              "       [ 1.95365143,  2.02487476,  2.43975018,  2.40535118],\n",
              "       [-0.94064699,  0.3088792 , -0.48795004,  1.06904497],\n",
              "       [ 0.50650222,  0.3088792 ,  0.48795004, -0.26726124],\n",
              "       [-1.66422159, -1.40711636, -0.48795004, -0.26726124],\n",
              "       [ 0.14471492, -0.72071813,  0.48795004, -1.60356745]])"
            ]
          },
          "metadata": {
            "tags": []
          },
          "execution_count": 23
        }
      ]
    },
    {
      "cell_type": "markdown",
      "metadata": {
        "id": "HHM5r2mBCFY8"
      },
      "source": [
        "##**問題1　これまで利用してきたクラスの列挙**"
      ]
    },
    {
      "cell_type": "markdown",
      "metadata": {
        "id": "IovZhIxcCXzb"
      },
      "source": [
        "**Pandas**\n",
        "___\n",
        "* DataFrame\n",
        "* Series<br>\n",
        "<br>\n",
        "\n",
        "**matplotlib**\n",
        "___\n",
        "* Pyplot\n",
        "* Figure\n",
        "* Axes<br>\n",
        "<br>\n",
        "\n",
        "**scikit-learn**\n",
        "___\n",
        "* SVC\n",
        "* DecisionTreeRegressor"
      ]
    },
    {
      "cell_type": "markdown",
      "metadata": {
        "id": "xS_TpnZdHlgY"
      },
      "source": [
        "##**問題2　これまで利用してきたメソッドやインスタンス変数**"
      ]
    },
    {
      "cell_type": "markdown",
      "metadata": {
        "id": "kwii4yvVIuQ2"
      },
      "source": [
        "\n",
        "___\n",
        "append<br>\n",
        "join<br>\n",
        "items<br>\n",
        "sort<br>\n",
        "iloc<br>\n",
        "loc<br>\n",
        "\n"
      ]
    },
    {
      "cell_type": "markdown",
      "metadata": {
        "id": "AS40HkeOMJ7H"
      },
      "source": [
        "##**問題3　標準化クラスをスクラッチで作成**"
      ]
    },
    {
      "cell_type": "code",
      "metadata": {
        "id": "e2RdQelx6OV2"
      },
      "source": [
        "class ScratchStandardScaler():\n",
        "    \"\"\"\n",
        "    標準化のためのクラス\n",
        "    Attributes\n",
        "    ----------\n",
        "    mean_ : 次の形のndarray, shape(n_features,)\n",
        "        平均\n",
        "    var_ : 次の形のndarray, shape(n_features,)\n",
        "        分散\n",
        "    \"\"\"\n",
        "    def fit(self, X):\n",
        "        \"\"\"\n",
        "        標準化のために平均と標準偏差を計算する。\n",
        "        Parameters\n",
        "        ----------\n",
        "        X : 次の形のndarray, shape (n_samples, n_features)\n",
        "            訓練データ\n",
        "        \"\"\"\n",
        "        self.mean_ = X.mean()\n",
        "        self.var_ = X.var()\n",
        "        pass\n",
        "    def transform(self, X):\n",
        "        \"\"\"\n",
        "        fitで求めた値を使い標準化を行う。\n",
        "        Parameters\n",
        "        ----------\n",
        "        X : 次の形のndarray, shape (n_samples, n_features)\n",
        "            特徴量\n",
        "        Returns\n",
        "        ----------\n",
        "        X_scaled : 次の形のndarray, shape (n_samples, n_features)\n",
        "            標準化された特緒量\n",
        "        \"\"\"\n",
        "        X -= self.mean_\n",
        "        X_scaled = X\n",
        "        pass\n",
        "        return X_scaled\n",
        "\n"
      ],
      "execution_count": 27,
      "outputs": []
    },
    {
      "cell_type": "code",
      "metadata": {
        "colab": {
          "base_uri": "https://localhost:8080/"
        },
        "id": "uJrsDafoEB23",
        "outputId": "73a5d765-b4ab-4cad-d4cd-ef5604983084"
      },
      "source": [
        "import numpy as np\n",
        "from sklearn.datasets import load_iris\n",
        "data = load_iris()\n",
        "X = data.data[:10]\n",
        "scratch_scaler = ScratchStandardScaler()\n",
        "scratch_scaler.fit(X)\n",
        "print(\"平均 : {}\".format(scratch_scaler.mean_))\n",
        "print(\"分散 : {}\".format(scratch_scaler.var_))\n",
        "X_std = scratch_scaler.transform(X)\n",
        "print(X_std)"
      ],
      "execution_count": 28,
      "outputs": [
        {
          "output_type": "stream",
          "text": [
            "平均 : 2.46\n",
            "分散 : 3.1744\n",
            "[[ 2.64  1.04 -1.06 -2.26]\n",
            " [ 2.44  0.54 -1.06 -2.26]\n",
            " [ 2.24  0.74 -1.16 -2.26]\n",
            " [ 2.14  0.64 -0.96 -2.26]\n",
            " [ 2.54  1.14 -1.06 -2.26]\n",
            " [ 2.94  1.44 -0.76 -2.06]\n",
            " [ 2.14  0.94 -1.06 -2.16]\n",
            " [ 2.54  0.94 -0.96 -2.26]\n",
            " [ 1.94  0.44 -1.06 -2.26]\n",
            " [ 2.44  0.64 -0.96 -2.36]]\n"
          ],
          "name": "stdout"
        }
      ]
    },
    {
      "cell_type": "markdown",
      "metadata": {
        "id": "nrZDap9tOmB2"
      },
      "source": [
        "##**問題4　四則演算を行うクラスを作成**"
      ]
    },
    {
      "cell_type": "code",
      "metadata": {
        "id": "r2b2YbELEYUz"
      },
      "source": [
        "class ExampleClass():\n",
        "    \"\"\"\n",
        "    説明用の簡単なクラス\n",
        "    Parameters\n",
        "    ----------\n",
        "    value : float or int\n",
        "        初期値\n",
        "    Attributes\n",
        "    ----------\n",
        "    value : float or int\n",
        "        計算結果\n",
        "    \"\"\"\n",
        "    def __init__(self, value):\n",
        "        self.value = value\n",
        "        if str(value).isdigit():\n",
        "            print(\"初期値{}が設定されました\".format(self.value))\n",
        "        else:\n",
        "            print(\"エラー\")\n",
        "    def add(self, value2):\n",
        "        \"\"\"\n",
        "        受け取った引数をself.valueに加える\n",
        "        \"\"\"\n",
        "        self.value += value2\n",
        "    def diff(self, value2):\n",
        "        \"\"\"\n",
        "        受け取った引数をself.valueから引く\n",
        "        \"\"\"\n",
        "        self.value -= value2\n",
        "    def multi(self, value2):\n",
        "        \"\"\"\n",
        "        受け取った引数をself.valueにかける\n",
        "        \"\"\"\n",
        "        self.value *= value2    \n",
        "    def division(self, value2):\n",
        "        \"\"\"\n",
        "        受け取った引数をself.valueから割る\n",
        "        \"\"\"\n",
        "        self.value /= value2\n"
      ],
      "execution_count": 93,
      "outputs": []
    },
    {
      "cell_type": "code",
      "metadata": {
        "colab": {
          "base_uri": "https://localhost:8080/"
        },
        "id": "Ft4xL2ZVO13n",
        "outputId": "d5aef09d-f99d-437e-97ec-53590c31b8ed"
      },
      "source": [
        "example = ExampleClass(5)\n",
        "print(\"value(初期値) : {}\".format(example.value))\n",
        "example.add(3)\n",
        "print(\"value(足し算) : {}\".format(example.value))\n",
        "example.diff(3)\n",
        "print(\"value(引き算) : {}\".format(example.value))\n",
        "example.multi(3)\n",
        "print(\"value(掛け算) : {}\".format(example.value))\n",
        "example.division(3)\n",
        "print(\"value(割り算) : {}\".format(example.value))"
      ],
      "execution_count": 49,
      "outputs": [
        {
          "output_type": "stream",
          "text": [
            "初期値5が設定されました\n",
            "value(初期値) : 5\n",
            "value(足し算) : 8\n",
            "value(引き算) : 5\n",
            "value(掛け算) : 15\n",
            "value(割り算) : 5.0\n"
          ],
          "name": "stdout"
        }
      ]
    },
    {
      "cell_type": "code",
      "metadata": {
        "colab": {
          "base_uri": "https://localhost:8080/"
        },
        "id": "GPZGEPnTO7Mq",
        "outputId": "cb0d8ce8-116d-4760-b37e-48e0ba4a55e3"
      },
      "source": [
        "example2 = ExampleClass(5)\n",
        "example2.division(5)\n",
        "print(\"value(割り算) : {}\".format(example2.value))\n"
      ],
      "execution_count": 129,
      "outputs": [
        {
          "output_type": "stream",
          "text": [
            "初期値5が設定されました\n",
            "value(割り算) : 1.0\n"
          ],
          "name": "stdout"
        }
      ]
    },
    {
      "cell_type": "code",
      "metadata": {
        "colab": {
          "base_uri": "https://localhost:8080/"
        },
        "id": "2PFjFte0jr1B",
        "outputId": "13b191be-ee5d-4432-e8d4-d97c945d0340"
      },
      "source": [
        "test = \"A\"\n",
        "ExampleClassPlus(test)\n"
      ],
      "execution_count": 132,
      "outputs": [
        {
          "output_type": "stream",
          "text": [
            "エラー\n"
          ],
          "name": "stdout"
        },
        {
          "output_type": "execute_result",
          "data": {
            "text/plain": [
              "<__main__.ExampleClassPlus at 0x7f5340459898>"
            ]
          },
          "metadata": {
            "tags": []
          },
          "execution_count": 132
        }
      ]
    },
    {
      "cell_type": "code",
      "metadata": {
        "id": "XChRIBDbjuDM"
      },
      "source": [
        ""
      ],
      "execution_count": null,
      "outputs": []
    }
  ]
}