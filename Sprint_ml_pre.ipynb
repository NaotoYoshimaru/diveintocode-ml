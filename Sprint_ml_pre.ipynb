{
  "nbformat": 4,
  "nbformat_minor": 0,
  "metadata": {
    "colab": {
      "name": "Sprint_ml_pre.ipynb",
      "provenance": [],
      "collapsed_sections": []
    },
    "kernelspec": {
      "name": "python3",
      "display_name": "Python 3"
    }
  },
  "cells": [
    {
      "cell_type": "markdown",
      "metadata": {
        "id": "OyAjYz1bbUps"
      },
      "source": [
        "#**問題1　train_test_splitのスクラッチ**\n"
      ]
    },
    {
      "cell_type": "markdown",
      "metadata": {
        "id": "DHKALjZsyeWo"
      },
      "source": [
        "train_test_splitのスクラッチ"
      ]
    },
    {
      "cell_type": "code",
      "metadata": {
        "id": "Rst0J0HU_L43"
      },
      "source": [
        "import numpy as np\n",
        "\n",
        "def scrath_train_test_split(X, y, train_size=0.8,):\n",
        "    Z = np.c_[X, y]\n",
        "    np.random.shuffle(Z)\n",
        "    X_shuffle = Z[:, :-1]\n",
        "    y_shuffle = Z[:, -1]\n",
        "    y_shuffle = y_shuffle.astype(\"int\")\n",
        "\n",
        "    X_train, X_test = np.split(X_shuffle, [int(X[:,1].size*train_size)],0)\n",
        "    y_train, y_test = np.split(y_shuffle, [int(y.size*train_size)])\n",
        "    #print(X_train)\n",
        "    #print(X_test)\n",
        "    #y_train.reshape(-1, 1)\n",
        "    #y_test.reshape(-1, 1)\n",
        "\n",
        "    return X_train, X_test, y_train, y_test"
      ],
      "execution_count": 3,
      "outputs": []
    },
    {
      "cell_type": "code",
      "metadata": {
        "id": "XMvST1SkqqdS"
      },
      "source": [
        "from sklearn.linear_model import SGDClassifier\n",
        "from sklearn.svm import SVC\n",
        "from sklearn.tree import DecisionTreeClassifier\n",
        "\n",
        "sgd = SGDClassifier(loss=\"log\")\n",
        "svc = SVC()\n",
        "tree = DecisionTreeClassifier()\n",
        "\n"
      ],
      "execution_count": 4,
      "outputs": []
    },
    {
      "cell_type": "code",
      "metadata": {
        "id": "pMe-hQOi0xCK"
      },
      "source": [
        "from sklearn.datasets import load_iris\n",
        "import pandas as pd"
      ],
      "execution_count": 5,
      "outputs": []
    },
    {
      "cell_type": "code",
      "metadata": {
        "id": "rObCkyqp01F6"
      },
      "source": [
        "iris_data = load_iris()\n",
        "X_iris = pd.DataFrame(iris_data[\"data\"], columns = [\"sepal_length\", \"sepal_width\", \"petal_length\", \"petal_width\"])\n",
        "y_iris = pd.DataFrame(iris_data[\"target\"], columns=[\"Species\"])\n",
        "\n",
        "df = pd.concat([X_iris, y_iris],axis=1)"
      ],
      "execution_count": 6,
      "outputs": []
    },
    {
      "cell_type": "code",
      "metadata": {
        "colab": {
          "base_uri": "https://localhost:8080/",
          "height": 419
        },
        "id": "W3ihwaxZ06ma",
        "outputId": "a00904be-15d2-4616-cd55-724533004c5c"
      },
      "source": [
        "df"
      ],
      "execution_count": 7,
      "outputs": [
        {
          "output_type": "execute_result",
          "data": {
            "text/html": [
              "<div>\n",
              "<style scoped>\n",
              "    .dataframe tbody tr th:only-of-type {\n",
              "        vertical-align: middle;\n",
              "    }\n",
              "\n",
              "    .dataframe tbody tr th {\n",
              "        vertical-align: top;\n",
              "    }\n",
              "\n",
              "    .dataframe thead th {\n",
              "        text-align: right;\n",
              "    }\n",
              "</style>\n",
              "<table border=\"1\" class=\"dataframe\">\n",
              "  <thead>\n",
              "    <tr style=\"text-align: right;\">\n",
              "      <th></th>\n",
              "      <th>sepal_length</th>\n",
              "      <th>sepal_width</th>\n",
              "      <th>petal_length</th>\n",
              "      <th>petal_width</th>\n",
              "      <th>Species</th>\n",
              "    </tr>\n",
              "  </thead>\n",
              "  <tbody>\n",
              "    <tr>\n",
              "      <th>0</th>\n",
              "      <td>5.1</td>\n",
              "      <td>3.5</td>\n",
              "      <td>1.4</td>\n",
              "      <td>0.2</td>\n",
              "      <td>0</td>\n",
              "    </tr>\n",
              "    <tr>\n",
              "      <th>1</th>\n",
              "      <td>4.9</td>\n",
              "      <td>3.0</td>\n",
              "      <td>1.4</td>\n",
              "      <td>0.2</td>\n",
              "      <td>0</td>\n",
              "    </tr>\n",
              "    <tr>\n",
              "      <th>2</th>\n",
              "      <td>4.7</td>\n",
              "      <td>3.2</td>\n",
              "      <td>1.3</td>\n",
              "      <td>0.2</td>\n",
              "      <td>0</td>\n",
              "    </tr>\n",
              "    <tr>\n",
              "      <th>3</th>\n",
              "      <td>4.6</td>\n",
              "      <td>3.1</td>\n",
              "      <td>1.5</td>\n",
              "      <td>0.2</td>\n",
              "      <td>0</td>\n",
              "    </tr>\n",
              "    <tr>\n",
              "      <th>4</th>\n",
              "      <td>5.0</td>\n",
              "      <td>3.6</td>\n",
              "      <td>1.4</td>\n",
              "      <td>0.2</td>\n",
              "      <td>0</td>\n",
              "    </tr>\n",
              "    <tr>\n",
              "      <th>...</th>\n",
              "      <td>...</td>\n",
              "      <td>...</td>\n",
              "      <td>...</td>\n",
              "      <td>...</td>\n",
              "      <td>...</td>\n",
              "    </tr>\n",
              "    <tr>\n",
              "      <th>145</th>\n",
              "      <td>6.7</td>\n",
              "      <td>3.0</td>\n",
              "      <td>5.2</td>\n",
              "      <td>2.3</td>\n",
              "      <td>2</td>\n",
              "    </tr>\n",
              "    <tr>\n",
              "      <th>146</th>\n",
              "      <td>6.3</td>\n",
              "      <td>2.5</td>\n",
              "      <td>5.0</td>\n",
              "      <td>1.9</td>\n",
              "      <td>2</td>\n",
              "    </tr>\n",
              "    <tr>\n",
              "      <th>147</th>\n",
              "      <td>6.5</td>\n",
              "      <td>3.0</td>\n",
              "      <td>5.2</td>\n",
              "      <td>2.0</td>\n",
              "      <td>2</td>\n",
              "    </tr>\n",
              "    <tr>\n",
              "      <th>148</th>\n",
              "      <td>6.2</td>\n",
              "      <td>3.4</td>\n",
              "      <td>5.4</td>\n",
              "      <td>2.3</td>\n",
              "      <td>2</td>\n",
              "    </tr>\n",
              "    <tr>\n",
              "      <th>149</th>\n",
              "      <td>5.9</td>\n",
              "      <td>3.0</td>\n",
              "      <td>5.1</td>\n",
              "      <td>1.8</td>\n",
              "      <td>2</td>\n",
              "    </tr>\n",
              "  </tbody>\n",
              "</table>\n",
              "<p>150 rows × 5 columns</p>\n",
              "</div>"
            ],
            "text/plain": [
              "     sepal_length  sepal_width  petal_length  petal_width  Species\n",
              "0             5.1          3.5           1.4          0.2        0\n",
              "1             4.9          3.0           1.4          0.2        0\n",
              "2             4.7          3.2           1.3          0.2        0\n",
              "3             4.6          3.1           1.5          0.2        0\n",
              "4             5.0          3.6           1.4          0.2        0\n",
              "..            ...          ...           ...          ...      ...\n",
              "145           6.7          3.0           5.2          2.3        2\n",
              "146           6.3          2.5           5.0          1.9        2\n",
              "147           6.5          3.0           5.2          2.0        2\n",
              "148           6.2          3.4           5.4          2.3        2\n",
              "149           5.9          3.0           5.1          1.8        2\n",
              "\n",
              "[150 rows x 5 columns]"
            ]
          },
          "metadata": {
            "tags": []
          },
          "execution_count": 7
        }
      ]
    },
    {
      "cell_type": "code",
      "metadata": {
        "id": "yP1UXmyF1lL0"
      },
      "source": [
        "df2 = df[df[\"Species\"].isin([\"1\",\"2\"])]\n",
        "df2\n",
        "X_iris_data = df2.iloc[:,:4].values\n",
        "y_iris_data = df2.iloc[:,4].values"
      ],
      "execution_count": 8,
      "outputs": []
    },
    {
      "cell_type": "code",
      "metadata": {
        "id": "wPVQAAEv_b2x"
      },
      "source": [
        "X_train, X_test, y_train, y_test = scrath_train_test_split(X_iris_data, y_iris_data, train_size=0.8)"
      ],
      "execution_count": 9,
      "outputs": []
    },
    {
      "cell_type": "code",
      "metadata": {
        "colab": {
          "base_uri": "https://localhost:8080/"
        },
        "id": "C9tqoRsX_mjZ",
        "outputId": "b0027b65-dd57-4d67-ae89-36e1668762e1"
      },
      "source": [
        "model_log = SGDClassifier(loss=\"log\")\n",
        "model_log.fit(X_train, y_train)\n",
        "y_pred_log = model_log.predict(X_test)\n",
        "print(y_pred_log)\n",
        "print(y_test)"
      ],
      "execution_count": 10,
      "outputs": [
        {
          "output_type": "stream",
          "text": [
            "[1 1 1 1 1 1 1 1 1 1 1 1 1 1 1 2 1 1 1 1]\n",
            "[2 2 1 1 1 1 2 1 1 2 2 2 1 1 2 2 2 1 1 1]\n"
          ],
          "name": "stdout"
        }
      ]
    },
    {
      "cell_type": "code",
      "metadata": {
        "colab": {
          "base_uri": "https://localhost:8080/"
        },
        "id": "G8HtFIjbwXQW",
        "outputId": "f07f962f-6160-4544-8e21-52df959a17e4"
      },
      "source": [
        "from sklearn.metrics import accuracy_score\n",
        "\n",
        "accuracy_score(y_test, y_pred_log)"
      ],
      "execution_count": 11,
      "outputs": [
        {
          "output_type": "execute_result",
          "data": {
            "text/plain": [
              "0.6"
            ]
          },
          "metadata": {
            "tags": []
          },
          "execution_count": 11
        }
      ]
    },
    {
      "cell_type": "code",
      "metadata": {
        "colab": {
          "base_uri": "https://localhost:8080/"
        },
        "id": "VciF3ytlh6YI",
        "outputId": "89523867-75bf-4f19-fe4c-602e855fdbb5"
      },
      "source": [
        "from sklearn.model_selection import train_test_split\n",
        "\n",
        "X_train_t, X_test_t, y_train_t, y_test_t = train_test_split(X_iris_data, y_iris_data, train_size=0.8)\n",
        "print(X_train_t)\n",
        "print(X_test_t)\n",
        "print(y_train_t)\n",
        "print(y_test_t)\n"
      ],
      "execution_count": 12,
      "outputs": [
        {
          "output_type": "stream",
          "text": [
            "[[6.5 3.  5.8 2.2]\n",
            " [6.7 3.  5.2 2.3]\n",
            " [6.3 3.3 6.  2.5]\n",
            " [5.6 2.7 4.2 1.3]\n",
            " [6.1 2.6 5.6 1.4]\n",
            " [6.1 3.  4.6 1.4]\n",
            " [6.  3.  4.8 1.8]\n",
            " [6.7 3.3 5.7 2.1]\n",
            " [7.6 3.  6.6 2.1]\n",
            " [6.4 3.2 4.5 1.5]\n",
            " [6.7 3.  5.  1.7]\n",
            " [6.8 3.  5.5 2.1]\n",
            " [7.  3.2 4.7 1.4]\n",
            " [6.5 3.  5.5 1.8]\n",
            " [6.  2.7 5.1 1.6]\n",
            " [6.9 3.1 4.9 1.5]\n",
            " [5.5 2.4 3.8 1.1]\n",
            " [6.4 2.9 4.3 1.3]\n",
            " [6.7 3.1 4.7 1.5]\n",
            " [6.5 3.2 5.1 2. ]\n",
            " [5.7 2.8 4.1 1.3]\n",
            " [5.9 3.2 4.8 1.8]\n",
            " [5.5 2.3 4.  1.3]\n",
            " [5.8 2.7 5.1 1.9]\n",
            " [5.6 2.5 3.9 1.1]\n",
            " [6.3 2.9 5.6 1.8]\n",
            " [6.  3.4 4.5 1.6]\n",
            " [5.6 3.  4.1 1.3]\n",
            " [6.7 3.1 5.6 2.4]\n",
            " [6.9 3.1 5.1 2.3]\n",
            " [6.  2.2 5.  1.5]\n",
            " [6.2 2.8 4.8 1.8]\n",
            " [6.4 2.8 5.6 2.1]\n",
            " [5.7 2.6 3.5 1. ]\n",
            " [7.2 3.6 6.1 2.5]\n",
            " [5.  2.3 3.3 1. ]\n",
            " [7.7 3.8 6.7 2.2]\n",
            " [7.1 3.  5.9 2.1]\n",
            " [5.9 3.  4.2 1.5]\n",
            " [6.8 2.8 4.8 1.4]\n",
            " [6.1 3.  4.9 1.8]\n",
            " [7.4 2.8 6.1 1.9]\n",
            " [5.7 3.  4.2 1.2]\n",
            " [5.2 2.7 3.9 1.4]\n",
            " [5.8 2.7 4.1 1. ]\n",
            " [5.5 2.6 4.4 1.2]\n",
            " [6.1 2.9 4.7 1.4]\n",
            " [5.6 2.8 4.9 2. ]\n",
            " [6.6 2.9 4.6 1.3]\n",
            " [5.8 2.8 5.1 2.4]\n",
            " [7.9 3.8 6.4 2. ]\n",
            " [4.9 2.5 4.5 1.7]\n",
            " [6.5 3.  5.2 2. ]\n",
            " [5.5 2.4 3.7 1. ]\n",
            " [6.1 2.8 4.7 1.2]\n",
            " [6.9 3.1 5.4 2.1]\n",
            " [5.7 2.5 5.  2. ]\n",
            " [7.7 2.6 6.9 2.3]\n",
            " [5.7 2.8 4.5 1.3]\n",
            " [6.3 2.5 5.  1.9]\n",
            " [7.2 3.2 6.  1.8]\n",
            " [6.3 3.3 4.7 1.6]\n",
            " [6.6 3.  4.4 1.4]\n",
            " [6.5 2.8 4.6 1.5]\n",
            " [5.9 3.  5.1 1.8]\n",
            " [6.2 3.4 5.4 2.3]\n",
            " [6.3 2.7 4.9 1.8]\n",
            " [5.1 2.5 3.  1.1]\n",
            " [5.8 2.7 3.9 1.2]\n",
            " [5.8 2.6 4.  1.2]\n",
            " [6.4 2.8 5.6 2.2]\n",
            " [7.7 2.8 6.7 2. ]\n",
            " [5.6 3.  4.5 1.5]\n",
            " [6.4 3.2 5.3 2.3]\n",
            " [5.7 2.9 4.2 1.3]\n",
            " [6.7 3.3 5.7 2.5]\n",
            " [5.5 2.5 4.  1.3]\n",
            " [7.2 3.  5.8 1.6]\n",
            " [6.7 2.5 5.8 1.8]\n",
            " [6.9 3.2 5.7 2.3]]\n",
            "[[7.3 2.9 6.3 1.8]\n",
            " [6.  2.9 4.5 1.5]\n",
            " [6.4 2.7 5.3 1.9]\n",
            " [5.4 3.  4.5 1.5]\n",
            " [6.3 2.3 4.4 1.3]\n",
            " [5.  2.  3.5 1. ]\n",
            " [6.7 3.1 4.4 1.4]\n",
            " [6.3 3.4 5.6 2.4]\n",
            " [6.1 2.8 4.  1.3]\n",
            " [4.9 2.4 3.3 1. ]\n",
            " [5.6 2.9 3.6 1.3]\n",
            " [6.2 2.2 4.5 1.5]\n",
            " [5.8 2.7 5.1 1.9]\n",
            " [6.8 3.2 5.9 2.3]\n",
            " [7.7 3.  6.1 2.3]\n",
            " [6.3 2.5 4.9 1.5]\n",
            " [6.3 2.8 5.1 1.5]\n",
            " [6.4 3.1 5.5 1.8]\n",
            " [6.2 2.9 4.3 1.3]\n",
            " [6.  2.2 4.  1. ]]\n",
            "[2 2 2 1 2 1 2 2 2 1 1 2 1 2 1 1 1 1 1 2 1 1 1 2 1 2 1 1 2 2 2 2 2 1 2 1 2\n",
            " 2 1 1 2 2 1 1 1 1 1 2 1 2 2 2 2 1 1 2 2 2 1 2 2 1 1 1 2 2 2 1 1 1 2 2 1 2\n",
            " 1 2 1 2 2 2]\n",
            "[2 1 2 1 1 1 1 2 1 1 1 1 2 2 2 1 2 2 1 1]\n"
          ],
          "name": "stdout"
        }
      ]
    },
    {
      "cell_type": "code",
      "metadata": {
        "colab": {
          "base_uri": "https://localhost:8080/"
        },
        "id": "LLcvPhDhvCAG",
        "outputId": "0d403c31-3d2a-4dcc-af20-fc66dad067aa"
      },
      "source": [
        "model_svc = SVC()\n",
        "model_svc.fit(X_train, y_train)\n",
        "y_pred_svc = model_svc.predict(X_test)\n",
        "print(y_pred_svc)\n",
        "print(y_test)\n",
        "accuracy_score(y_test, y_pred_svc)"
      ],
      "execution_count": 13,
      "outputs": [
        {
          "output_type": "stream",
          "text": [
            "[2 2 1 1 1 1 2 1 1 2 2 2 1 1 2 2 2 2 1 1]\n",
            "[2 2 1 1 1 1 2 1 1 2 2 2 1 1 2 2 2 1 1 1]\n"
          ],
          "name": "stdout"
        },
        {
          "output_type": "execute_result",
          "data": {
            "text/plain": [
              "0.95"
            ]
          },
          "metadata": {
            "tags": []
          },
          "execution_count": 13
        }
      ]
    },
    {
      "cell_type": "code",
      "metadata": {
        "colab": {
          "base_uri": "https://localhost:8080/"
        },
        "id": "jumeniEQx2Pn",
        "outputId": "5e4cdfd2-315d-4d75-8c7d-f95c9bd675f3"
      },
      "source": [
        "model_tree = DecisionTreeClassifier()\n",
        "model_tree.fit(X_train, y_train)\n",
        "y_pred_tree = model_tree.predict(X_test)\n",
        "print(y_pred_tree)\n",
        "print(y_test)\n",
        "accuracy_score(y_test, y_pred_tree)"
      ],
      "execution_count": 14,
      "outputs": [
        {
          "output_type": "stream",
          "text": [
            "[2 2 1 1 1 1 2 1 1 1 2 2 1 1 2 2 2 2 1 1]\n",
            "[2 2 1 1 1 1 2 1 1 2 2 2 1 1 2 2 2 1 1 1]\n"
          ],
          "name": "stdout"
        },
        {
          "output_type": "execute_result",
          "data": {
            "text/plain": [
              "0.9"
            ]
          },
          "metadata": {
            "tags": []
          },
          "execution_count": 14
        }
      ]
    },
    {
      "cell_type": "markdown",
      "metadata": {
        "id": "8ZfJd-LezG2c"
      },
      "source": [
        "#**問題2　分類問題を解くコードの作成**"
      ]
    },
    {
      "cell_type": "markdown",
      "metadata": {
        "id": "nXCvHJpqzDvy"
      },
      "source": [
        "シンプルデータセット1作成コード"
      ]
    },
    {
      "cell_type": "code",
      "metadata": {
        "id": "8twazsOKyslG"
      },
      "source": [
        "np.random.seed(seed=0)\n",
        "n_samples = 500\n",
        "f0 = [-1, 2]\n",
        "f1 = [2, -1]\n",
        "cov = [[1.0,0.8], [0.8, 1.0]]\n",
        "f0 = np.random.multivariate_normal(f0, cov, int(n_samples/2))\n",
        "f1 = np.random.multivariate_normal(f1, cov, int(n_samples/2))\n",
        "X_simple = np.concatenate((f0, f1))\n",
        "y_simple = np.concatenate((np.ones((int(n_samples/2))), np.ones((int(n_samples/2))) *(-1))).astype(np.int)\n",
        "random_index = np.random.permutation(np.arange(n_samples))\n",
        "X_simple = X_simple[random_index]\n",
        "y_simple = y_simple[random_index]"
      ],
      "execution_count": 15,
      "outputs": []
    },
    {
      "cell_type": "code",
      "metadata": {
        "id": "D1rzLHZtzuyS"
      },
      "source": [
        "X_train_simple, X_test_simple, y_train_simple, y_test_simple = scrath_train_test_split(X_simple, y_simple, train_size=0.8)"
      ],
      "execution_count": 17,
      "outputs": []
    },
    {
      "cell_type": "code",
      "metadata": {
        "id": "PmPGoQ5y0Jg9",
        "colab": {
          "base_uri": "https://localhost:8080/"
        },
        "outputId": "5668ec5a-c594-4cd6-e977-1c918171212b"
      },
      "source": [
        "print(X_train_simple.shape)\n",
        "print(X_test_simple.shape)\n",
        "print(y_train_simple.shape)\n",
        "print(y_test_simple.shape)"
      ],
      "execution_count": 22,
      "outputs": [
        {
          "output_type": "stream",
          "text": [
            "(400, 2)\n",
            "(100, 2)\n",
            "(400,)\n",
            "(100,)\n"
          ],
          "name": "stdout"
        }
      ]
    },
    {
      "cell_type": "code",
      "metadata": {
        "colab": {
          "base_uri": "https://localhost:8080/"
        },
        "id": "jXc6_0Op0NC2",
        "outputId": "6768dc6b-3a6e-4cb9-fa24-f8cb7e466a24"
      },
      "source": [
        "model_log.fit(X_train_simple, y_train_simple)\n",
        "y_pred_log_simple = model_log.predict(X_test_simple)\n",
        "accuracy_score(y_test_simple, y_pred_log_simple)\n"
      ],
      "execution_count": 19,
      "outputs": [
        {
          "output_type": "execute_result",
          "data": {
            "text/plain": [
              "1.0"
            ]
          },
          "metadata": {
            "tags": []
          },
          "execution_count": 19
        }
      ]
    },
    {
      "cell_type": "code",
      "metadata": {
        "colab": {
          "base_uri": "https://localhost:8080/"
        },
        "id": "S9j75zO017-W",
        "outputId": "391504b8-283a-4dfd-88b6-790f2400eeed"
      },
      "source": [
        "\n",
        "model_svc.fit(X_train_simple, y_train_simple)\n",
        "y_pred_svc_simple = model_svc.predict(X_test_simple)\n",
        "accuracy_score(y_test_simple, y_pred_svc_simple)\n",
        "\n"
      ],
      "execution_count": 24,
      "outputs": [
        {
          "output_type": "execute_result",
          "data": {
            "text/plain": [
              "1.0"
            ]
          },
          "metadata": {
            "tags": []
          },
          "execution_count": 24
        }
      ]
    },
    {
      "cell_type": "code",
      "metadata": {
        "colab": {
          "base_uri": "https://localhost:8080/"
        },
        "id": "RXopaPvY2MpL",
        "outputId": "b1a69a6e-eabc-4028-f40c-6e708cd3c3c4"
      },
      "source": [
        "\n",
        "model_tree.fit(X_train_simple, y_train_simple)\n",
        "y_pred_tree_simple = model_tree.predict(X_test_simple)\n",
        "accuracy_score(y_test_simple, y_pred_tree_simple)\n"
      ],
      "execution_count": 23,
      "outputs": [
        {
          "output_type": "execute_result",
          "data": {
            "text/plain": [
              "1.0"
            ]
          },
          "metadata": {
            "tags": []
          },
          "execution_count": 23
        }
      ]
    },
    {
      "cell_type": "markdown",
      "metadata": {
        "id": "UB5tcoFh3pIH"
      },
      "source": [
        "シンプルデータセット2作成コード\n"
      ]
    },
    {
      "cell_type": "code",
      "metadata": {
        "id": "S1Xc6gIS2O8d"
      },
      "source": [
        "X_simple2 = np.array([[-0.44699 , -2.8073  ],[-1.4621  , -2.4586  ],\n",
        "       [ 0.10645 ,  1.9242  ],[-3.5944  , -4.0112  ],\n",
        "       [-0.9888  ,  4.5718  ],[-3.1625  , -3.9606  ],\n",
        "       [ 0.56421 ,  0.72888 ],[-0.60216 ,  8.4636  ],\n",
        "       [-0.61251 , -0.75345 ],[-0.73535 , -2.2718  ],\n",
        "       [-0.80647 , -2.2135  ],[ 0.86291 ,  2.3946  ],\n",
        "       [-3.1108  ,  0.15394 ],[-2.9362  ,  2.5462  ],\n",
        "       [-0.57242 , -2.9915  ],[ 1.4771  ,  3.4896  ],\n",
        "       [ 0.58619 ,  0.37158 ],[ 0.6017  ,  4.3439  ],\n",
        "       [-2.1086  ,  8.3428  ],[-4.1013  , -4.353   ],\n",
        "       [-1.9948  , -1.3927  ],[ 0.35084 , -0.031994],\n",
        "       [ 0.96765 ,  7.8929  ],[-1.281   , 15.6824  ],\n",
        "       [ 0.96765 , 10.083   ],[ 1.3763  ,  1.3347  ],\n",
        "       [-2.234   , -2.5323  ],[-2.9452  , -1.8219  ],\n",
        "       [ 0.14654 , -0.28733 ],[ 0.5461  ,  5.8245  ],\n",
        "       [-0.65259 ,  9.3444  ],[ 0.59912 ,  5.3524  ],\n",
        "       [ 0.50214 , -0.31818 ],[-3.0603  , -3.6461  ],\n",
        "       [-6.6797  ,  0.67661 ],[-2.353   , -0.72261 ],\n",
        "       [ 1.1319  ,  2.4023  ],[-0.12243 ,  9.0162  ],\n",
        "       [-2.5677  , 13.1779  ],[ 0.057313,  5.4681  ]])\n",
        "y_simple2 = np.array([0, 0, 0, 0, 0, 0, 0, 0, 0, 0, 0, 0, 0, 0, 0, 0, 0, 0, 0, 0, 1, 1,\n",
        "       1, 1, 1, 1, 1, 1, 1, 1, 1, 1, 1, 1, 1, 1, 1, 1, 1, 1])"
      ],
      "execution_count": 25,
      "outputs": []
    },
    {
      "cell_type": "code",
      "metadata": {
        "id": "W--c4dlg3u5t"
      },
      "source": [
        "X_train_simple2, X_test_simple2, y_train_simple2, y_test_simple2 = scrath_train_test_split(X_simple2, y_simple2, train_size=0.8)"
      ],
      "execution_count": 26,
      "outputs": []
    },
    {
      "cell_type": "code",
      "metadata": {
        "colab": {
          "base_uri": "https://localhost:8080/"
        },
        "id": "C5oca86w390K",
        "outputId": "4098641d-4675-43e5-d17e-bffe3a8fa1e2"
      },
      "source": [
        "model_log.fit(X_train_simple2, y_train_simple2)\n",
        "y_pred_log_simple2 = model_log.predict(X_test_simple2)\n",
        "accuracy_score(y_test_simple2, y_pred_log_simple2)\n"
      ],
      "execution_count": 27,
      "outputs": [
        {
          "output_type": "execute_result",
          "data": {
            "text/plain": [
              "0.625"
            ]
          },
          "metadata": {
            "tags": []
          },
          "execution_count": 27
        }
      ]
    },
    {
      "cell_type": "code",
      "metadata": {
        "colab": {
          "base_uri": "https://localhost:8080/"
        },
        "id": "6FFxpobN4J4I",
        "outputId": "a7d9fe60-5a66-4b5e-ecd1-048879d02078"
      },
      "source": [
        "model_svc.fit(X_train_simple2, y_train_simple2)\n",
        "y_pred_svc_simple2 = model_svc.predict(X_test_simple2)\n",
        "accuracy_score(y_test_simple2, y_pred_svc_simple2)\n",
        "\n"
      ],
      "execution_count": 28,
      "outputs": [
        {
          "output_type": "execute_result",
          "data": {
            "text/plain": [
              "0.5"
            ]
          },
          "metadata": {
            "tags": []
          },
          "execution_count": 28
        }
      ]
    },
    {
      "cell_type": "code",
      "metadata": {
        "colab": {
          "base_uri": "https://localhost:8080/"
        },
        "id": "WM--ULFN4cyL",
        "outputId": "92747917-13ad-45c2-aeb7-511f6f6347b3"
      },
      "source": [
        "model_tree.fit(X_train_simple2, y_train_simple2)\n",
        "y_pred_tree_simple2 = model_tree.predict(X_test_simple2)\n",
        "accuracy_score(y_test_simple2, y_pred_tree_simple2)"
      ],
      "execution_count": 29,
      "outputs": [
        {
          "output_type": "execute_result",
          "data": {
            "text/plain": [
              "0.75"
            ]
          },
          "metadata": {
            "tags": []
          },
          "execution_count": 29
        }
      ]
    },
    {
      "cell_type": "markdown",
      "metadata": {
        "id": "qjaoeFhr4_eD"
      },
      "source": [
        "#**問題3　回帰問題を解くコードの作成**"
      ]
    },
    {
      "cell_type": "code",
      "metadata": {
        "id": "kYfwfp7r4-3Y"
      },
      "source": [
        "from sklearn.linear_model import SGDRegressor\n",
        "import pandas as pd"
      ],
      "execution_count": 31,
      "outputs": []
    },
    {
      "cell_type": "code",
      "metadata": {
        "colab": {
          "base_uri": "https://localhost:8080/"
        },
        "id": "7ySu9vta4tTw",
        "outputId": "80f8917d-efaf-41d2-9351-21d177f5fad8"
      },
      "source": [
        "from google.colab import drive\n",
        "drive.mount(\"/content/drive\")"
      ],
      "execution_count": 32,
      "outputs": [
        {
          "output_type": "stream",
          "text": [
            "Mounted at /content/drive\n"
          ],
          "name": "stdout"
        }
      ]
    },
    {
      "cell_type": "code",
      "metadata": {
        "id": "iSPu6_rR6cKq"
      },
      "source": [
        "df = pd.read_csv(\"drive/My Drive/train_home.csv\")"
      ],
      "execution_count": 33,
      "outputs": []
    },
    {
      "cell_type": "code",
      "metadata": {
        "colab": {
          "base_uri": "https://localhost:8080/"
        },
        "id": "2REW8eg76_ne",
        "outputId": "caba1944-83fe-47f0-a0d2-18ef679bb525"
      },
      "source": [
        "print(df)"
      ],
      "execution_count": 34,
      "outputs": [
        {
          "output_type": "stream",
          "text": [
            "        Id  MSSubClass MSZoning  ...  SaleType  SaleCondition SalePrice\n",
            "0        1          60       RL  ...        WD         Normal    208500\n",
            "1        2          20       RL  ...        WD         Normal    181500\n",
            "2        3          60       RL  ...        WD         Normal    223500\n",
            "3        4          70       RL  ...        WD        Abnorml    140000\n",
            "4        5          60       RL  ...        WD         Normal    250000\n",
            "...    ...         ...      ...  ...       ...            ...       ...\n",
            "1455  1456          60       RL  ...        WD         Normal    175000\n",
            "1456  1457          20       RL  ...        WD         Normal    210000\n",
            "1457  1458          70       RL  ...        WD         Normal    266500\n",
            "1458  1459          20       RL  ...        WD         Normal    142125\n",
            "1459  1460          20       RL  ...        WD         Normal    147500\n",
            "\n",
            "[1460 rows x 81 columns]\n"
          ],
          "name": "stdout"
        }
      ]
    },
    {
      "cell_type": "code",
      "metadata": {
        "id": "cwNBVCzt7AqG"
      },
      "source": [
        "df_X = df.loc[:,[\"GrLivArea\",\"YearBuilt\"]]\n",
        "df_y = df.loc[:,[\"SalePrice\"]]"
      ],
      "execution_count": 35,
      "outputs": []
    },
    {
      "cell_type": "code",
      "metadata": {
        "colab": {
          "base_uri": "https://localhost:8080/"
        },
        "id": "E_74KDOQ8EqT",
        "outputId": "07e8ce85-a5ee-4ad8-e935-a8141e33fb17"
      },
      "source": [
        "print(df_X)\n",
        "print(df_y)"
      ],
      "execution_count": 36,
      "outputs": [
        {
          "output_type": "stream",
          "text": [
            "      GrLivArea  YearBuilt\n",
            "0          1710       2003\n",
            "1          1262       1976\n",
            "2          1786       2001\n",
            "3          1717       1915\n",
            "4          2198       2000\n",
            "...         ...        ...\n",
            "1455       1647       1999\n",
            "1456       2073       1978\n",
            "1457       2340       1941\n",
            "1458       1078       1950\n",
            "1459       1256       1965\n",
            "\n",
            "[1460 rows x 2 columns]\n",
            "      SalePrice\n",
            "0        208500\n",
            "1        181500\n",
            "2        223500\n",
            "3        140000\n",
            "4        250000\n",
            "...         ...\n",
            "1455     175000\n",
            "1456     210000\n",
            "1457     266500\n",
            "1458     142125\n",
            "1459     147500\n",
            "\n",
            "[1460 rows x 1 columns]\n"
          ],
          "name": "stdout"
        }
      ]
    },
    {
      "cell_type": "code",
      "metadata": {
        "id": "FAt4NL128Gwe"
      },
      "source": [
        "X_home = df_X.values\n",
        "y_home = df_y.values"
      ],
      "execution_count": 37,
      "outputs": []
    },
    {
      "cell_type": "code",
      "metadata": {
        "id": "qXIfphts_93s"
      },
      "source": [
        "\n",
        "from sklearn.preprocessing import StandardScaler\n",
        "sscaler = StandardScaler()\n",
        "sscaler.fit(X_home)\n",
        "X_std = sscaler.transform(X_home)\n",
        "\n",
        "sscaler.fit(y_home)\n",
        "y_std = sscaler.transform(y_home)\n"
      ],
      "execution_count": 45,
      "outputs": []
    },
    {
      "cell_type": "code",
      "metadata": {
        "id": "S5-faJXd8g77"
      },
      "source": [
        "X_train_home, X_test_home, y_train_home, y_test_home = scrath_train_test_split(X_home, y_home, train_size=0.8)"
      ],
      "execution_count": 46,
      "outputs": []
    },
    {
      "cell_type": "code",
      "metadata": {
        "colab": {
          "base_uri": "https://localhost:8080/"
        },
        "id": "fyL_E5pe8zwS",
        "outputId": "db086d1a-f2c7-45b3-9eb7-97cbfc9482cf"
      },
      "source": [
        "lm = SGDRegressor()\n",
        "model_lm = lm.fit(X_train_home, y_train_home)\n",
        "y_pred_home = model_lm.predict(X_test_home)\n",
        "print(y_test_home)\n",
        "print(y_pred_home)"
      ],
      "execution_count": 47,
      "outputs": [
        {
          "output_type": "stream",
          "text": [
            "[142500 202665 183500 135000 149000 146000  52000 140000 147000 149900\n",
            " 165400 101800 212000 148000 348000 271000 165000 136000  60000 206300\n",
            " 205000 241500 127500 162900 217000  55000 179400 105000 136000 186500\n",
            " 158000 117000 149900 147000 144000 165000 120000 134900 281000 109500\n",
            " 165150 345000 113000 222000 113000 208500 185750 335000 159000 277000\n",
            " 160200 150500 167500 134800 118000 208300  85000 147000 224900 212000\n",
            " 159434 128000 194000 100000 130000 118000 110000 215000 149000 192000\n",
            " 277500 137000  91500 181000 164700  85400 145000 175500 374000 135000\n",
            " 160000 266500 150000 128000 153500 160000 169500 153337  87500 136500\n",
            " 180500 151000 279500 161500 167900  84500 120500 137500 193500 229456\n",
            " 223500 194700 160000 133700 186700 128500 158000 155000 239686 111000\n",
            "  76000 229000  92000 177000 129500 139000 239000 173000 143500 190000\n",
            " 164500 152000 159000 118000 122500 215000 162900 189000 264561 179500\n",
            " 257500 165000 200000 271000 200000 197500 128200 192500 241500 210000\n",
            " 320000 158000 194000 137000 108000 310000 196500  82500 185000 119500\n",
            " 145000 189000 143000 122000 244000 276000 210000 174000 227680 195000\n",
            " 555000 172500 110000 305000 278000 235000 169900 269500 143500 135000\n",
            " 187100 219500 179000 173000 118000 180000 142600 233170 132000 192500\n",
            " 147000 103000 145000 171000 163000 156000 134432 143000 262000 187500\n",
            " 151000 192000 186000 235000 135000 178000  60000 151500 127500 118500\n",
            " 328000 475000 181000 341000 255000 187500 110000  60000 192140 556581\n",
            " 135000  98300 196000 115000 140200 102000 122000 145000 266000 290000\n",
            " 204900 126000 204750 228500 148000 130000 269790 440000 155000 319900\n",
            " 135000 164500  79000 115000  89471 149500 155835 165600 248000 310000\n",
            " 282922 173900 133000 367294 125000 180500 144500 137500  55000 169000\n",
            " 220000 157000 250000 125000 135000 100000 188000 147000 164000 106500\n",
            " 162500 185000 280000 245500 177000  73000 236500 136500 120500 203000\n",
            " 240000  85500 159950 154500 370878 174000 208900 240000 315000 312500\n",
            " 225000 119000  97500 165000 115000 275000 145000 165000 157900 160000\n",
            " 187000 230000]\n",
            "[-2.71040282e+15 -3.38976975e+15 -3.87635779e+15 -2.91018274e+15\n",
            " -2.66909836e+15 -3.42448915e+15 -2.45286936e+15 -3.65555217e+15\n",
            " -2.86504769e+15 -2.83862788e+15 -3.78700555e+15 -3.15832603e+15\n",
            " -3.78870562e+15 -3.01509423e+15 -4.80150057e+15 -3.83194708e+15\n",
            " -3.40542215e+15 -3.95365852e+15 -2.55191290e+15 -3.35057409e+15\n",
            " -3.57929137e+15 -4.07486084e+15 -2.83021344e+15 -3.61763337e+15\n",
            " -3.55824487e+15 -2.53593043e+15 -3.56942825e+15 -3.33466307e+15\n",
            " -4.92659044e+15 -3.97305559e+15 -3.26780691e+15 -2.61102921e+15\n",
            " -3.49113009e+15 -3.29312891e+15 -4.27155622e+15 -3.51411358e+15\n",
            " -2.65767805e+15 -2.66653017e+15 -4.22396783e+15 -2.89463072e+15\n",
            " -3.94939749e+15 -4.71332481e+15 -3.15822565e+15 -3.80904225e+15\n",
            " -3.44265187e+15 -3.86176703e+15 -3.52968731e+15 -4.52173688e+15\n",
            " -3.03736786e+15 -4.42905594e+15 -3.08103253e+15 -2.91477383e+15\n",
            " -3.21221282e+15 -2.70155070e+15 -3.01944840e+15 -3.18508314e+15\n",
            " -3.54137258e+15 -3.00666532e+15 -3.79019770e+15 -3.56036815e+15\n",
            " -3.54574845e+15 -2.93201146e+15 -3.18561396e+15 -3.23658079e+15\n",
            " -4.14478707e+15 -2.93764972e+15 -3.08822708e+15 -3.75492577e+15\n",
            " -3.52008191e+15 -3.51351856e+15 -3.65697281e+15 -4.09420004e+15\n",
            " -3.46907891e+15 -3.34162883e+15 -3.22714811e+15 -2.83692058e+15\n",
            " -3.03627729e+15 -3.19145298e+15 -3.97529372e+15 -3.45574331e+15\n",
            " -3.52331024e+15 -4.68772972e+15 -3.46856256e+15 -3.70889367e+15\n",
            " -2.96035379e+15 -4.75959294e+15 -3.95757501e+15 -3.17100873e+15\n",
            " -2.89388468e+15 -3.78142426e+15 -3.95692935e+15 -3.63139942e+15\n",
            " -3.56495924e+15 -3.93543793e+15 -3.32180855e+15 -2.34191809e+15\n",
            " -2.52443869e+15 -3.10625415e+15 -3.81213403e+15 -3.31799243e+15\n",
            " -3.61656450e+15 -3.38146292e+15 -3.78889190e+15 -2.90134509e+15\n",
            " -3.64086826e+15 -2.66737658e+15 -3.07281161e+15 -3.02616277e+15\n",
            " -4.46955016e+15 -2.77024347e+15 -2.52379302e+15 -4.50543158e+15\n",
            " -2.34191809e+15 -3.60340162e+15 -4.27940367e+15 -3.15552815e+15\n",
            " -4.18956402e+15 -3.80553450e+15 -3.23043341e+15 -3.11010644e+15\n",
            " -3.29421949e+15 -3.61178712e+15 -3.39443228e+15 -2.41890323e+15\n",
            " -4.57672781e+15 -4.20777737e+15 -3.77793821e+15 -3.51160327e+15\n",
            " -3.66602568e+15 -4.48133580e+15 -4.00604599e+15 -3.37248872e+15\n",
            " -3.84792231e+15 -4.43237741e+15 -4.37679055e+15 -4.06037046e+15\n",
            " -2.71189490e+15 -3.64866598e+15 -3.34479928e+15 -4.34567927e+15\n",
            " -3.84813753e+15 -3.34076071e+15 -3.21330340e+15 -4.11147384e+15\n",
            " -2.78068805e+15 -4.27668537e+15 -3.87635779e+15 -3.42841288e+15\n",
            " -3.18550635e+15 -3.35011471e+15 -4.16259169e+15 -4.04046427e+15\n",
            " -3.50753576e+15 -4.04020564e+15 -4.38944431e+15 -5.06093485e+15\n",
            " -3.48316779e+15 -3.65015806e+15 -3.47507618e+15 -4.28465490e+15\n",
            " -4.82355174e+15 -3.89893255e+15 -2.56543479e+15 -4.62599548e+15\n",
            " -3.78892084e+15 -3.60340162e+15 -2.90572096e+15 -4.22343701e+15\n",
            " -3.25396943e+15 -2.83170552e+15 -3.47262284e+15 -3.85630058e+15\n",
            " -3.35973458e+15 -3.76560004e+15 -2.83766662e+15 -3.58348819e+15\n",
            " -3.85833795e+15 -3.57827314e+15 -2.74404612e+15 -3.95239613e+15\n",
            " -3.98168526e+15 -3.10857095e+15 -2.79506359e+15 -3.82841763e+15\n",
            " -3.34863710e+15 -2.73830748e+15 -3.66003565e+15 -3.14821152e+15\n",
            " -3.73598808e+15 -3.51510378e+15 -3.15717848e+15 -3.75835485e+15\n",
            " -3.17677631e+15 -4.36205601e+15 -4.34865620e+15 -3.17080798e+15\n",
            " -3.22733440e+15 -2.78856444e+15 -3.79762918e+15 -4.51380262e+15\n",
            " -4.61800424e+15 -6.40668397e+15 -3.57805792e+15 -4.83451267e+15\n",
            " -3.76155424e+15 -3.56229067e+15 -3.39539354e+15 -2.03879744e+15\n",
            " -4.04047150e+15 -5.46647748e+15 -3.49293777e+15 -2.90570649e+15\n",
            " -3.42086656e+15 -3.30506557e+15 -3.62988563e+15 -3.14458169e+15\n",
            " -4.66117336e+15 -4.22574657e+15 -3.82726284e+15 -4.97722088e+15\n",
            " -3.57049713e+15 -3.01731066e+15 -3.96251064e+15 -4.49649356e+15\n",
            " -2.90444410e+15 -3.86112860e+15 -4.27603970e+15 -4.23227466e+15\n",
            " -2.97163032e+15 -3.92140693e+15 -2.97866029e+15 -3.19338997e+15\n",
            " -2.95276406e+15 -3.27952835e+15 -3.01091912e+15 -3.41392973e+15\n",
            " -3.51234931e+15 -3.56495200e+15 -4.04887871e+15 -4.97572879e+15\n",
            " -3.52417113e+15 -3.57252003e+15 -2.90432925e+15 -3.85442146e+15\n",
            " -2.73010103e+15 -3.48103004e+15 -2.66909836e+15 -2.92371186e+15\n",
            " -2.95170243e+15 -4.81945529e+15 -3.62928337e+15 -3.10284678e+15\n",
            " -3.75878529e+15 -3.06630522e+15 -2.69036732e+15 -2.85582933e+15\n",
            " -3.86654441e+15 -2.99569716e+15 -3.90872423e+15 -2.68259854e+15\n",
            " -3.18581471e+15 -3.58178089e+15 -4.03695652e+15 -3.27229763e+15\n",
            " -3.52501754e+15 -2.49386546e+15 -3.96826375e+15 -2.91668189e+15\n",
            " -2.66663054e+15 -3.57134354e+15 -4.68803085e+15 -2.63774292e+15\n",
            " -2.97025308e+15 -2.94309446e+15 -3.94377370e+15 -3.79838245e+15\n",
            " -3.36836424e+15 -4.18998723e+15 -5.13175090e+15 -3.98562345e+15\n",
            " -3.89360988e+15 -3.31005094e+15 -3.47184786e+15 -3.18592956e+15\n",
            " -3.53189650e+15 -3.96687928e+15 -3.48323200e+15 -3.34172197e+15\n",
            " -3.45715672e+15 -9.30924045e+15 -4.04237233e+15 -3.31650035e+15]\n"
          ],
          "name": "stdout"
        }
      ]
    },
    {
      "cell_type": "markdown",
      "metadata": {
        "id": "qQNHVgvJ-KJ7"
      },
      "source": [
        ""
      ]
    },
    {
      "cell_type": "code",
      "metadata": {
        "id": "ll4neZ1p9Smw"
      },
      "source": [
        "from sklearn.metrics import mean_squared_error"
      ],
      "execution_count": 40,
      "outputs": []
    },
    {
      "cell_type": "code",
      "metadata": {
        "colab": {
          "base_uri": "https://localhost:8080/"
        },
        "id": "BwSjIAQJ9nNb",
        "outputId": "38fd659e-d660-4083-a37c-698657f47c28"
      },
      "source": [
        "mse_lm = mean_squared_error(y_test_home, y_pred_home)\n",
        "print(mse_lm)"
      ],
      "execution_count": 48,
      "outputs": [
        {
          "output_type": "stream",
          "text": [
            "1.321432568781652e+31\n"
          ],
          "name": "stdout"
        }
      ]
    },
    {
      "cell_type": "code",
      "metadata": {
        "colab": {
          "base_uri": "https://localhost:8080/"
        },
        "id": "ghQZ0J_F-6RO",
        "outputId": "f64d116b-0adc-479d-e46e-e91400aa13de"
      },
      "source": [
        "X_test_home.shape\n",
        "y_pred_home.shape"
      ],
      "execution_count": 49,
      "outputs": [
        {
          "output_type": "execute_result",
          "data": {
            "text/plain": [
              "(292,)"
            ]
          },
          "metadata": {
            "tags": []
          },
          "execution_count": 49
        }
      ]
    },
    {
      "cell_type": "code",
      "metadata": {
        "colab": {
          "base_uri": "https://localhost:8080/",
          "height": 293
        },
        "id": "W1-EHAGZ9yIA",
        "outputId": "5f1c58c6-6a57-4742-fd24-36ac2123dc35"
      },
      "source": [
        "import matplotlib.pyplot as plt\n",
        "\n",
        "plt.scatter(X_test_home[:,0], y_pred_home, label=\"Predict_data\")\n",
        "plt.scatter(X_test_home[:,0], y_test_home, label=\"True_data\")\n",
        "plt.legend()"
      ],
      "execution_count": 50,
      "outputs": [
        {
          "output_type": "execute_result",
          "data": {
            "text/plain": [
              "<matplotlib.legend.Legend at 0x7f9d73b407b8>"
            ]
          },
          "metadata": {
            "tags": []
          },
          "execution_count": 50
        },
        {
          "output_type": "display_data",
          "data": {
            "image/png": "[encoded data removed]",
            "text/plain": [
              "<Figure size 432x288 with 1 Axes>"
            ]
          },
          "metadata": {
            "tags": [],
            "needs_background": "light"
          }
        }
      ]
    },
    {
      "cell_type": "code",
      "metadata": {
        "colab": {
          "base_uri": "https://localhost:8080/",
          "height": 293
        },
        "id": "WrbyQAme_PSW",
        "outputId": "5b09a747-58c8-40db-f0d7-e0ea54450ac3"
      },
      "source": [
        "import matplotlib.pyplot as plt\n",
        "\n",
        "plt.scatter(X_test_home[:,1], y_pred_home, label=\"Predict_data\")\n",
        "plt.scatter(X_test_home[:,1], y_test_home, label=\"True_data\")\n",
        "plt.legend()"
      ],
      "execution_count": 51,
      "outputs": [
        {
          "output_type": "execute_result",
          "data": {
            "text/plain": [
              "<matplotlib.legend.Legend at 0x7f9d735a0390>"
            ]
          },
          "metadata": {
            "tags": []
          },
          "execution_count": 51
        },
        {
          "output_type": "display_data",
          "data": {
            "image/png": "[encoded data removed]",
            "text/plain": [
              "<Figure size 432x288 with 1 Axes>"
            ]
          },
          "metadata": {
            "tags": [],
            "needs_background": "light"
          }
        }
      ]
    },
    {
      "cell_type": "code",
      "metadata": {
        "id": "YEVcw5PN_jUi"
      },
      "source": [
        ""
      ],
      "execution_count": null,
      "outputs": []
    }
  ]
}